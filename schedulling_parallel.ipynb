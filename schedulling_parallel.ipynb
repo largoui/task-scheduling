{
 "cells": [
  {
   "cell_type": "code",
   "execution_count": 11,
   "metadata": {},
   "outputs": [],
   "source": [
    "import numpy as np\n",
    "from mpi4py import MPI"
   ]
  },
  {
   "cell_type": "code",
   "execution_count": 30,
   "metadata": {},
   "outputs": [],
   "source": [
    "def split_list(priority_list, n_cores):\n",
    "    k, m = divmod(len(priority_list), n_cores)\n",
    "    return list(priority_list[i * k + min(i, m):(i + 1) * k + min(i + 1, m)] for i in range(n_cores))"
   ]
  },
  {
   "cell_type": "code",
   "execution_count": 34,
   "metadata": {},
   "outputs": [
    {
     "data": {
      "text/plain": [
       "[[1, 2], [3, 4], [5], [6], [7], [8], [9]]"
      ]
     },
     "execution_count": 34,
     "metadata": {},
     "output_type": "execute_result"
    }
   ],
   "source": [
    "split_list([1,2,3,4,5,6,7,8,9],7)"
   ]
  },
  {
   "cell_type": "code",
   "execution_count": 1,
   "metadata": {},
   "outputs": [],
   "source": [
    "def scheduling_parallel(priority_list, nb_cores):\n",
    "    comm = MPI.COMM_WORLD\n",
    "    rank = comm.Get_rank()\n",
    "    size = comm.Get_size()\n",
    "\n",
    "    list_split = split_list(priority_list, nb_cores)\n",
    "    if rank == 0: #master a le rank 0\n",
    "        for i in range(1, size):\n",
    "            comm.send(list_split[i], dest=i)\n",
    "        scheduled_list = ordo(list_split[0])\n",
    "        score = get_score_1(scheduled_list)\n",
    "        res = {'schedule' : scheduled_list,'score': score, 'rank': rank}\n",
    "    else:\n",
    "        sub_list = comm.recv(source=0)\n",
    "        scheduled_list = ordo(sub_list)\n",
    "        score = get_score_1(scheduled_list)\n",
    "        res = {'schedule' : scheduled_list,'score': score, 'rank': rank}\n",
    "\n",
    "\n",
    "    if rank == 0:\n",
    "        schedule = {}\n",
    "        scheduled_dict = comm.gather(res, root=0)\n",
    "        relative_time = np.zeros(nb_cores) #calcul des temps de fin de chaque schedule pour actualiser les temps start et end de chaque tache en fonction du rang du processeur qui les a ordonné\n",
    "        for x in scheduled_dict:\n",
    "            relative_time[x['rank']]= x['score']\n",
    "        relative_time = np.cumsum(relative_time) #relative_time[-1] est le score du schedule\n",
    "        for x in scheduled_dict: #actualisation des temps Start et End\n",
    "            if x['rank']>0:\n",
    "                x['schedule']['Start'] +=relative_time[x['rank']-1]\n",
    "                x['schedule']['End'] +=relative_time[x['rank']-1]\n",
    "            schedule.update(x['schedule']) #merge chaque dictionnaire\n",
    "        return schedule"
   ]
  },
  {
   "cell_type": "code",
   "execution_count": null,
   "metadata": {},
   "outputs": [],
   "source": []
  }
 ],
 "metadata": {
  "kernelspec": {
   "display_name": "Python 3",
   "language": "python",
   "name": "python3"
  },
  "language_info": {
   "codemirror_mode": {
    "name": "ipython",
    "version": 3
   },
   "file_extension": ".py",
   "mimetype": "text/x-python",
   "name": "python",
   "nbconvert_exporter": "python",
   "pygments_lexer": "ipython3",
   "version": "3.9.13"
  },
  "orig_nbformat": 4,
  "vscode": {
   "interpreter": {
    "hash": "7d21774a37394d1099f4cffe328321a91099fee94319977945a8234a802e894c"
   }
  }
 },
 "nbformat": 4,
 "nbformat_minor": 2
}
