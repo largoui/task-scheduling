{
 "cells": [
  {
   "attachments": {},
   "cell_type": "markdown",
   "metadata": {},
   "source": [
    "Version 1 d'un k-means aléatoire basé sur la distance à la centroïde, calcul des distances pas opti donc à refaire, + possibilité de paralléliser facilement (calcul des différentes distances en parallèle)"
   ]
  },
  {
   "cell_type": "code",
   "execution_count": 51,
   "metadata": {},
   "outputs": [
    {
     "data": {
      "text/plain": [
       "array([0., 0., 0., 0.])"
      ]
     },
     "execution_count": 51,
     "metadata": {},
     "output_type": "execute_result"
    }
   ],
   "source": [
    "import numpy as np\n",
    "S = np.zeros((4,4))\n",
    "S[0, :]\n"
   ]
  },
  {
   "cell_type": "code",
   "execution_count": 52,
   "metadata": {},
   "outputs": [],
   "source": [
    "import numpy as np\n",
    "\n",
    "def kmeans(nodes, k):\n",
    "    Keys = list(nodes.keys())\n",
    "    Keys = list(map(lambda t : int(t), Keys))\n",
    "    \n",
    "    #------ kmeans++ -------\n",
    "    # choose the centroids according to the distance between the already chosen centroids\n",
    "    def selection(Keys, k):\n",
    "        centroids = np.zeros(k)\n",
    "        centroids[0] = np.random.choice(Keys)\n",
    "        S = np.zeros((k, len(Keys)))\n",
    "\n",
    "        for j in range(len(Keys)):\n",
    "            S[0,j] = dist([centroids[0]], [Keys[j]], nodes, [], [], 0)\n",
    "\n",
    "        dens_vect = S[0, :]\n",
    "        dens_vect /= np.sum(dens_vect)\n",
    "        for i in range(1, k):\n",
    "            centroids[i] = np.random.choice(Keys, p = dens_vect)\n",
    "            S[i,j] = dist([centroids[i]], [Keys[j]], nodes, [], [], 0)\n",
    "            \n",
    "            for j in range(len(dens_vect)):\n",
    "                dens_vect[j] += S[i,j]\n",
    "            \n",
    "            dens_vect /= np.sum(dens_vect)\n",
    "        return S, centroids\n",
    "        \n",
    "\n",
    "    #-----------------------\n",
    "\n",
    "    \n",
    "    # fonction pour clusteriser\n",
    "\n",
    "    def dist(nodes1, nodes2, nodes, list1, list2, iter):\n",
    "        #remonter l'arbre jusqu'à que l'intersection ne soit plus vide\n",
    "        inter = list(set([i[0] for i in list1]) & set([i[0] for i in list2]))\n",
    "        if len(inter) != 0:\n",
    "            m1 = np.inf\n",
    "            for i in list1:\n",
    "                if i[0] == inter[0] and i[1] < m1:\n",
    "                    m1 = i[1]\n",
    "            m2 = np.inf\n",
    "            for j in list2:\n",
    "                if j[0] == inter[0] and j[1] < m2:\n",
    "                    m2 = j[1]\n",
    "            return m1 + m2\n",
    "        \n",
    "        else:\n",
    "            list1 += [(i, iter) for i in nodes1]\n",
    "            list2 += [(i, iter) for i in nodes2]\n",
    "            n1, n2 = [], []\n",
    "            for node in nodes1:\n",
    "                n1 += nodes[str(int(node))]['Dependencies']\n",
    "            for node in nodes2:\n",
    "                n2 += nodes[str(int(node))]['Dependencies']\n",
    "            return dist(n1, n2, nodes, list1, list2, iter + 1)\n",
    "\n",
    "    #compute the distance between each point and centroid\n",
    "\n",
    "    #directly computes S with only centroids,\n",
    "    \"\"\"\n",
    "    def dist_cen(centroid, node, iter, limit): \n",
    "        to_visit = Keys\n",
    "        while len(to_visit) > 0:\n",
    "            \"\"\"\n",
    "    \n",
    "    S, centroids = selection(Keys, k)\n",
    "    keys_cen = [i for i in centroids]\n",
    "\n",
    "\n",
    "    # clustering\n",
    "\n",
    "    for key in Keys:\n",
    "        j = Keys.index(key)\n",
    "        m = np.inf\n",
    "        cluster = np.inf\n",
    "        for c in centroids:\n",
    "            i = keys_cen.index(c)\n",
    "            if S[i,j] < m:\n",
    "                m = S[i,j]\n",
    "                cluster = c\n",
    "        nodes[str(key)]['Cluster'] = cluster\n",
    "\n",
    "    print(centroids)\n",
    "\n",
    "    i = [0 for i in centroids]\n",
    "\n",
    "    nonodes = 0\n",
    "    for node in nodes:\n",
    "        i[keys_cen.index(nodes[node]['Cluster'])] += 1\n",
    "        nonodes += 1\n",
    "    print(np.array(i)*100/nonodes)\n",
    "\n"
   ]
  },
  {
   "cell_type": "code",
   "execution_count": 53,
   "metadata": {},
   "outputs": [
    {
     "name": "stdout",
     "output_type": "stream",
     "text": [
      "[ 8.  6. 10.]\n",
      "[10. 80. 10.]\n",
      "{'1': {'Data': '00:47:23.6552354', 'Dependencies': [], 'Cluster': 6.0}, '2': {'Data': '01:00:56.0712509', 'Dependencies': [1], 'Cluster': 6.0}, '3': {'Data': '00:45:41.9822376', 'Dependencies': [1], 'Cluster': 6.0}, '4': {'Data': '01:09:26.2243330', 'Dependencies': [1], 'Cluster': 6.0}, '5': {'Data': '01:24:25.7910236', 'Dependencies': [2], 'Cluster': 6.0}, '6': {'Data': '01:25:16.0078169', 'Dependencies': [4], 'Cluster': 6.0}, '7': {'Data': '01:04:38.7031112', 'Dependencies': [2], 'Cluster': 6.0}, '8': {'Data': '00:59:56.1902359', 'Dependencies': [5], 'Cluster': 8.0}, '9': {'Data': '01:27:32.5795340', 'Dependencies': [7], 'Cluster': 6.0}, '10': {'Data': '00:48:03.6393571', 'Dependencies': [8], 'Cluster': 10.0}}\n"
     ]
    }
   ],
   "source": [
    "import json\n",
    "with open('./graphs/smallRandom.json', 'r') as f:\n",
    "    data = json.load(f)\n",
    "\n",
    "nodes = data['nodes']\n",
    "\n",
    "kmeans(nodes, 3)\n",
    "print(nodes)\n",
    "\n",
    "\n"
   ]
  }
 ],
 "metadata": {
  "kernelspec": {
   "display_name": "Python 3",
   "language": "python",
   "name": "python3"
  },
  "language_info": {
   "codemirror_mode": {
    "name": "ipython",
    "version": 3
   },
   "file_extension": ".py",
   "mimetype": "text/x-python",
   "name": "python",
   "nbconvert_exporter": "python",
   "pygments_lexer": "ipython3",
   "version": "3.10.6"
  },
  "orig_nbformat": 4
 },
 "nbformat": 4,
 "nbformat_minor": 2
}
