{
 "cells": [
  {
   "cell_type": "code",
   "execution_count": 327,
   "metadata": {},
   "outputs": [],
   "source": [
    "import graphviz\n",
    "from datetime import datetime\n",
    "import json\n",
    "import numpy as np"
   ]
  },
  {
   "cell_type": "code",
   "execution_count": 328,
   "metadata": {},
   "outputs": [],
   "source": [
    "with open('./graphs/smallRandom.json', 'r') as f:\n",
    "    data = json.load(f)\n",
    "\n",
    "nodes = data['nodes']"
   ]
  },
  {
   "cell_type": "code",
   "execution_count": 329,
   "metadata": {},
   "outputs": [],
   "source": [
    "def create_successors():\n",
    "    for node in nodes:\n",
    "        nodes[node]['Successors']=[]\n",
    "    for node in nodes :\n",
    "        depend = nodes[node]['Dependencies']\n",
    "        if len(depend)>0:\n",
    "            for i in depend :\n",
    "                nodes[str(i)]['Successors'].append(node)\n"
   ]
  },
  {
   "cell_type": "code",
   "execution_count": 330,
   "metadata": {},
   "outputs": [
    {
     "data": {
      "text/plain": [
       "{'1': {'Data': '00:47:23.6552354',\n",
       "  'Dependencies': [],\n",
       "  'Successors': ['2', '3', '4']},\n",
       " '2': {'Data': '01:00:56.0712509',\n",
       "  'Dependencies': [1],\n",
       "  'Successors': ['5', '7']},\n",
       " '3': {'Data': '00:45:41.9822376', 'Dependencies': [1], 'Successors': []},\n",
       " '4': {'Data': '01:09:26.2243330', 'Dependencies': [1], 'Successors': ['6']},\n",
       " '5': {'Data': '01:24:25.7910236', 'Dependencies': [2], 'Successors': ['8']},\n",
       " '6': {'Data': '01:25:16.0078169', 'Dependencies': [4], 'Successors': []},\n",
       " '7': {'Data': '01:04:38.7031112', 'Dependencies': [2], 'Successors': ['9']},\n",
       " '8': {'Data': '00:59:56.1902359', 'Dependencies': [5], 'Successors': ['10']},\n",
       " '9': {'Data': '01:27:32.5795340', 'Dependencies': [7], 'Successors': []},\n",
       " '10': {'Data': '00:48:03.6393571', 'Dependencies': [8], 'Successors': []}}"
      ]
     },
     "execution_count": 330,
     "metadata": {},
     "output_type": "execute_result"
    }
   ],
   "source": [
    "create_successors()\n",
    "nodes"
   ]
  },
  {
   "cell_type": "code",
   "execution_count": 331,
   "metadata": {},
   "outputs": [],
   "source": [
    "def weight(node):\n",
    "    pt = node['Data'].split(':')\n",
    "    time_s = float(pt[0])*3600 + float(pt[1])*60 + float(pt[2])\n",
    "    return time_s"
   ]
  },
  {
   "cell_type": "code",
   "execution_count": 332,
   "metadata": {},
   "outputs": [
    {
     "ename": "IndentationError",
     "evalue": "expected an indented block after 'for' statement on line 6 (Temp/ipykernel_7176/1388151770.py, line 8)",
     "output_type": "error",
     "traceback": [
      "\u001b[1;36m  File \u001b[1;32m\"C:\\Users\\nizar\\AppData\\Local\\Temp/ipykernel_7176/1388151770.py\"\u001b[1;36m, line \u001b[1;32m8\u001b[0m\n\u001b[1;33m    # print(node['rank_calculated'])\u001b[0m\n\u001b[1;37m                                    ^\u001b[0m\n\u001b[1;31mIndentationError\u001b[0m\u001b[1;31m:\u001b[0m expected an indented block after 'for' statement on line 6\n"
     ]
    }
   ],
   "source": [
    "def add_ranks():\n",
    "    for node in nodes:\n",
    "        nodes[node]['rank'] = weight(nodes[node])\n",
    "        nodes[node]['rank_calculated'] = False\n",
    "\n",
    "for node in nodes.values() :\n",
    "    # print(node['rank'])\n",
    "    # print(node['rank_calculated'])"
   ]
  },
  {
   "cell_type": "code",
   "execution_count": null,
   "metadata": {},
   "outputs": [],
   "source": [
    "def calculate_rank(node):\n",
    "    if not nodes[node]['rank_calculated']:\n",
    "        succ = nodes[node]['Successors']     \n",
    "        rank = weight(nodes[node])\n",
    "        if len(succ) > 0:\n",
    "            for i in succ:\n",
    "                if not nodes[str(i)]['rank_calculated']:\n",
    "                    # print(\"couldn't calculate rank\")\n",
    "                    return 1  \n",
    "            weights = [nodes[str(i)]['rank'] for i in succ]\n",
    "            # print('node weight:',rank)\n",
    "            # print('successors:',succ)\n",
    "            # print('succ weights:',weights)\n",
    "            max_weights = max(weights)\n",
    "            # print('max:',max_weights)\n",
    "            rank += max_weights\n",
    "        nodes[node]['rank'] = rank\n",
    "        # print('calculated rank:', rank)\n",
    "        nodes[node]['rank_calculated'] = True\n",
    "    return 0"
   ]
  },
  {
   "cell_type": "code",
   "execution_count": null,
   "metadata": {},
   "outputs": [],
   "source": [
    "def graph_update():\n",
    "    count = 0\n",
    "    for node in nodes:\n",
    "        # print('node:',node)\n",
    "        count += calculate_rank(node)\n",
    "    print('not calculated ranks:',count)    \n",
    "    return count"
   ]
  },
  {
   "cell_type": "code",
   "execution_count": null,
   "metadata": {},
   "outputs": [],
   "source": [
    "def calculate_ranks():\n",
    "    epoch = 1\n",
    "    count = 1\n",
    "    while count > 0:\n",
    "        print('epoch:',epoch)\n",
    "        count = graph_update()\n",
    "        epoch+=1\n",
    "    print('rank calculation done')"
   ]
  },
  {
   "cell_type": "code",
   "execution_count": null,
   "metadata": {},
   "outputs": [
    {
     "name": "stdout",
     "output_type": "stream",
     "text": [
      "epoch: 1\n",
      "node: 1\n",
      "couldn't calculate rank\n",
      "node: 2\n",
      "couldn't calculate rank\n",
      "node: 3\n",
      "calculated rank: 2741.9822376\n",
      "node: 4\n",
      "couldn't calculate rank\n",
      "node: 5\n",
      "couldn't calculate rank\n",
      "node: 6\n",
      "calculated rank: 5116.0078169\n",
      "node: 7\n",
      "couldn't calculate rank\n",
      "node: 8\n",
      "couldn't calculate rank\n",
      "node: 9\n",
      "calculated rank: 5252.579534\n",
      "node: 10\n",
      "calculated rank: 2883.6393571\n",
      "not calculated ranks: 6\n",
      "epoch: 2\n",
      "node: 1\n",
      "couldn't calculate rank\n",
      "node: 2\n",
      "couldn't calculate rank\n",
      "node: 3\n",
      "node: 4\n",
      "node weight: 4166.224333\n",
      "successors: ['6']\n",
      "succ weights: [5116.0078169]\n",
      "max: 5116.0078169\n",
      "calculated rank: 9282.232149899999\n",
      "node: 5\n",
      "couldn't calculate rank\n",
      "node: 6\n",
      "node: 7\n",
      "node weight: 3878.7031112\n",
      "successors: ['9']\n",
      "succ weights: [5252.579534]\n",
      "max: 5252.579534\n",
      "calculated rank: 9131.2826452\n",
      "node: 8\n",
      "node weight: 3596.1902359\n",
      "successors: ['10']\n",
      "succ weights: [2883.6393571]\n",
      "max: 2883.6393571\n",
      "calculated rank: 6479.829593\n",
      "node: 9\n",
      "node: 10\n",
      "not calculated ranks: 3\n",
      "epoch: 3\n",
      "node: 1\n",
      "couldn't calculate rank\n",
      "node: 2\n",
      "couldn't calculate rank\n",
      "node: 3\n",
      "node: 4\n",
      "node: 5\n",
      "node weight: 5065.7910236\n",
      "successors: ['8']\n",
      "succ weights: [6479.829593]\n",
      "max: 6479.829593\n",
      "calculated rank: 11545.620616600001\n",
      "node: 6\n",
      "node: 7\n",
      "node: 8\n",
      "node: 9\n",
      "node: 10\n",
      "not calculated ranks: 2\n",
      "epoch: 4\n",
      "node: 1\n",
      "couldn't calculate rank\n",
      "node: 2\n",
      "node weight: 3656.0712509\n",
      "successors: ['5', '7']\n",
      "succ weights: [11545.620616600001, 9131.2826452]\n",
      "max: 11545.620616600001\n",
      "calculated rank: 15201.691867500002\n",
      "node: 3\n",
      "node: 4\n",
      "node: 5\n",
      "node: 6\n",
      "node: 7\n",
      "node: 8\n",
      "node: 9\n",
      "node: 10\n",
      "not calculated ranks: 1\n",
      "epoch: 5\n",
      "node: 1\n",
      "node weight: 2843.6552354\n",
      "successors: ['2', '3', '4']\n",
      "succ weights: [15201.691867500002, 2741.9822376, 9282.232149899999]\n",
      "max: 15201.691867500002\n",
      "calculated rank: 18045.347102900003\n",
      "node: 2\n",
      "node: 3\n",
      "node: 4\n",
      "node: 5\n",
      "node: 6\n",
      "node: 7\n",
      "node: 8\n",
      "node: 9\n",
      "node: 10\n",
      "not calculated ranks: 0\n",
      "rank calculation done\n"
     ]
    }
   ],
   "source": [
    "calculate_ranks()"
   ]
  },
  {
   "cell_type": "code",
   "execution_count": null,
   "metadata": {},
   "outputs": [
    {
     "name": "stdout",
     "output_type": "stream",
     "text": [
      "18045.347102900003\n",
      "True\n",
      "15201.691867500002\n",
      "True\n",
      "2741.9822376\n",
      "True\n",
      "9282.232149899999\n",
      "True\n",
      "11545.620616600001\n",
      "True\n",
      "5116.0078169\n",
      "True\n",
      "9131.2826452\n",
      "True\n",
      "6479.829593\n",
      "True\n",
      "5252.579534\n",
      "True\n",
      "2883.6393571\n",
      "True\n"
     ]
    }
   ],
   "source": [
    "for node in nodes.values() :\n",
    "    print(node['rank'])\n",
    "    print(node['rank_calculated'])"
   ]
  },
  {
   "cell_type": "code",
   "execution_count": null,
   "metadata": {},
   "outputs": [],
   "source": [
    "def make_priority_list():\n",
    "    node_list = []\n",
    "    rank_list = []\n",
    "    for node in nodes:\n",
    "        node_list.append(node)\n",
    "        rank_list.append(nodes[node]['rank'])\n",
    "\n",
    "    # print(node_list)\n",
    "    # print(rank_list)\n",
    "    # indexes = np.flip(np.argsort(rank_list))\n",
    "    # sorted_nodes = [node_list[i] for i in indexes]\n",
    "    sorted_nodes = [x for _,x in sorted(zip(rank_list,node_list), reverse=True)]\n",
    "    return sorted_nodes"
   ]
  },
  {
   "cell_type": "code",
   "execution_count": null,
   "metadata": {},
   "outputs": [],
   "source": [
    "def process_graph():\n",
    "    create_successors()\n",
    "    add_ranks()\n",
    "    calculate_ranks()\n",
    "    priority_list = make_priority_list()\n",
    "    return priority_list\n",
    "    "
   ]
  },
  {
   "cell_type": "code",
   "execution_count": null,
   "metadata": {},
   "outputs": [
    {
     "ename": "NameError",
     "evalue": "name 'process_graph' is not defined",
     "output_type": "error",
     "traceback": [
      "\u001b[1;31m---------------------------------------------------------------------------\u001b[0m",
      "\u001b[1;31mNameError\u001b[0m                                 Traceback (most recent call last)",
      "\u001b[1;32m~\\AppData\\Local\\Temp/ipykernel_7176/3000543596.py\u001b[0m in \u001b[0;36m<module>\u001b[1;34m\u001b[0m\n\u001b[1;32m----> 1\u001b[1;33m \u001b[0mpriority_list\u001b[0m \u001b[1;33m=\u001b[0m \u001b[0mprocess_graph\u001b[0m\u001b[1;33m(\u001b[0m\u001b[1;33m)\u001b[0m\u001b[1;33m\u001b[0m\u001b[1;33m\u001b[0m\u001b[0m\n\u001b[0m\u001b[0;32m      2\u001b[0m \u001b[0mpriority_list\u001b[0m\u001b[1;33m\u001b[0m\u001b[1;33m\u001b[0m\u001b[0m\n",
      "\u001b[1;31mNameError\u001b[0m: name 'process_graph' is not defined"
     ]
    }
   ],
   "source": [
    "priority_list = process_graph()\n",
    "priority_list"
   ]
  }
 ],
 "metadata": {
  "kernelspec": {
   "display_name": "Python 3",
   "language": "python",
   "name": "python3"
  },
  "language_info": {
   "codemirror_mode": {
    "name": "ipython",
    "version": 3
   },
   "file_extension": ".py",
   "mimetype": "text/x-python",
   "name": "python",
   "nbconvert_exporter": "python",
   "pygments_lexer": "ipython3",
   "version": "3.10.0"
  },
  "orig_nbformat": 4,
  "vscode": {
   "interpreter": {
    "hash": "0247af2ad54b89941d5bbc349ce0bb468cceffd3de09303ac244a9d0972ce8b5"
   }
  }
 },
 "nbformat": 4,
 "nbformat_minor": 2
}
