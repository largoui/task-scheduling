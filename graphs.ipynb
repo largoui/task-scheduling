{
 "cells": [
  {
   "cell_type": "code",
   "execution_count": 16,
   "metadata": {},
   "outputs": [],
   "source": [
    "import graphviz\n",
    "from datetime import datetime\n",
    "import json\n",
    "import numpy as np\n",
    "import time"
   ]
  },
  {
   "cell_type": "code",
   "execution_count": 17,
   "metadata": {},
   "outputs": [],
   "source": [
    "names = ['smallRandom','xsmallComplex','smallComplex','mediumRandom','MediumComplex','largeComplex','xlargeComplex','xxlargeComplex']"
   ]
  },
  {
   "cell_type": "code",
   "execution_count": 18,
   "metadata": {},
   "outputs": [],
   "source": [
    "with open('./graphs/smallRandom.json', 'r') as f:\n",
    "    data = json.load(f)\n",
    "\n",
    "nodes = data['nodes']"
   ]
  },
  {
   "cell_type": "code",
   "execution_count": 19,
   "metadata": {},
   "outputs": [],
   "source": [
    "def create_successors():\n",
    "    for node in nodes:\n",
    "        nodes[node]['Successors']=[]\n",
    "    for node in nodes :\n",
    "        depend = nodes[node]['Dependencies']\n",
    "        if len(depend)>0:\n",
    "            for i in depend :\n",
    "                nodes[str(i)]['Successors'].append(node)\n"
   ]
  },
  {
   "cell_type": "code",
   "execution_count": 20,
   "metadata": {},
   "outputs": [],
   "source": [
    "# create_successors()\n",
    "# nodes"
   ]
  },
  {
   "cell_type": "code",
   "execution_count": 21,
   "metadata": {},
   "outputs": [],
   "source": [
    "def weight(node):\n",
    "    pt = node['Data'].split(':')\n",
    "    time_s = float(pt[0])*3600 + float(pt[1])*60 + float(pt[2])\n",
    "    return time_s"
   ]
  },
  {
   "cell_type": "code",
   "execution_count": 22,
   "metadata": {},
   "outputs": [],
   "source": [
    "def add_ranks():\n",
    "    for node in nodes:\n",
    "        nodes[node]['rank'] = weight(nodes[node])\n",
    "        nodes[node]['rank_calculated'] = False\n",
    "\n",
    "# for node in nodes.values() :\n",
    "#     print(node['rank'])\n",
    "#     print(node['rank_calculated'])"
   ]
  },
  {
   "cell_type": "code",
   "execution_count": 23,
   "metadata": {},
   "outputs": [],
   "source": [
    "def calculate_rank(node):\n",
    "    if not nodes[node]['rank_calculated']:\n",
    "        succ = nodes[node]['Successors']     \n",
    "        rank = weight(nodes[node])\n",
    "        if len(succ) > 0:\n",
    "            for i in succ:\n",
    "                if not nodes[str(i)]['rank_calculated']:\n",
    "                    # print(\"couldn't calculate rank\")\n",
    "                    return 1  \n",
    "            weights = [nodes[str(i)]['rank'] for i in succ]\n",
    "            # print('node weight:',rank)\n",
    "            # print('successors:',succ)\n",
    "            # print('succ weights:',weights)\n",
    "            max_weights = max(weights)\n",
    "            # print('max:',max_weights)\n",
    "            rank += max_weights\n",
    "        nodes[node]['rank'] = rank\n",
    "        # print('calculated rank:', rank)\n",
    "        nodes[node]['rank_calculated'] = True\n",
    "    return 0"
   ]
  },
  {
   "cell_type": "code",
   "execution_count": 24,
   "metadata": {},
   "outputs": [],
   "source": [
    "def graph_update():\n",
    "    count = 0\n",
    "    for node in reversed(nodes.keys()):\n",
    "        # print('node:',node)\n",
    "        count += calculate_rank(node)\n",
    "    print('not calculated ranks:',count)    \n",
    "    return count"
   ]
  },
  {
   "cell_type": "code",
   "execution_count": 25,
   "metadata": {},
   "outputs": [],
   "source": [
    "def calculate_ranks():\n",
    "    epoch = 1\n",
    "    count = 1\n",
    "    while count > 0:\n",
    "        print('epoch:',epoch)\n",
    "        count = graph_update()\n",
    "        epoch+=1\n",
    "    print('rank calculation done')"
   ]
  },
  {
   "cell_type": "code",
   "execution_count": 26,
   "metadata": {},
   "outputs": [],
   "source": [
    "def make_priority_list():\n",
    "    node_list = []\n",
    "    rank_list = []\n",
    "    for node in nodes:\n",
    "        node_list.append(node)\n",
    "        rank_list.append(nodes[node]['rank'])\n",
    "\n",
    "    # print(node_list)\n",
    "    # print(rank_list)\n",
    "    # indexes = np.flip(np.argsort(rank_list))\n",
    "    # sorted_nodes = [node_list[i] for i in indexes]\n",
    "    sorted_nodes = [x for _,x in sorted(zip(rank_list,node_list), reverse=True)]\n",
    "    return sorted_nodes"
   ]
  },
  {
   "cell_type": "code",
   "execution_count": 27,
   "metadata": {},
   "outputs": [],
   "source": [
    "def process_graph():\n",
    "    create_successors()\n",
    "    add_ranks()\n",
    "    calculate_ranks()\n",
    "    priority_list = make_priority_list()\n",
    "    return priority_list\n",
    "    "
   ]
  },
  {
   "cell_type": "code",
   "execution_count": 28,
   "metadata": {},
   "outputs": [
    {
     "name": "stdout",
     "output_type": "stream",
     "text": [
      "epoch: 1\n",
      "not calculated ranks: 0\n",
      "rank calculation done\n",
      "duration: 0.0\n"
     ]
    }
   ],
   "source": [
    "start_time = time.time()\n",
    "priority_list = process_graph()\n",
    "duration = time.time() - start_time\n",
    "# print(priority_list)\n",
    "# print(len(nodes))\n",
    "# print(len(priority_list))\n",
    "print('duration:', duration)\n"
   ]
  },
  {
   "cell_type": "code",
   "execution_count": 31,
   "metadata": {},
   "outputs": [],
   "source": [
    "def calculate_execution_time(priority_list,n_cores):\n",
    "    execution_times = [0]*n_cores\n",
    "    for node in priority_list :\n",
    "        task_time = weight(nodes[node])\n",
    "        i = np.argmin(execution_times)\n",
    "        execution_times[i] += task_time\n",
    "    return execution_times"
   ]
  },
  {
   "cell_type": "code",
   "execution_count": 32,
   "metadata": {},
   "outputs": [
    {
     "data": {
      "text/plain": [
       "[19641.855386000003, 19558.9887496]"
      ]
     },
     "execution_count": 32,
     "metadata": {},
     "output_type": "execute_result"
    }
   ],
   "source": [
    "calculate_execution_time(priority_list,2)"
   ]
  }
 ],
 "metadata": {
  "kernelspec": {
   "display_name": "Python 3",
   "language": "python",
   "name": "python3"
  },
  "language_info": {
   "codemirror_mode": {
    "name": "ipython",
    "version": 3
   },
   "file_extension": ".py",
   "mimetype": "text/x-python",
   "name": "python",
   "nbconvert_exporter": "python",
   "pygments_lexer": "ipython3",
   "version": "3.10.0"
  },
  "orig_nbformat": 4,
  "vscode": {
   "interpreter": {
    "hash": "0247af2ad54b89941d5bbc349ce0bb468cceffd3de09303ac244a9d0972ce8b5"
   }
  }
 },
 "nbformat": 4,
 "nbformat_minor": 2
}
