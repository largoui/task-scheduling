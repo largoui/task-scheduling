{
 "cells": [
  {
   "cell_type": "code",
   "execution_count": 14,
   "metadata": {},
   "outputs": [],
   "source": [
    "import graphviz\n",
    "from datetime import datetime\n",
    "import json\n",
    "import numpy as np\n",
    "import time"
   ]
  },
  {
   "cell_type": "code",
   "execution_count": 15,
   "metadata": {},
   "outputs": [],
   "source": [
    "names = ['smallRandom','xsmallComplex','smallComplex','mediumRandom','MediumComplex','largeComplex','xlargeComplex','xxlargeComplex']"
   ]
  },
  {
   "cell_type": "code",
   "execution_count": 16,
   "metadata": {},
   "outputs": [
    {
     "name": "stdout",
     "output_type": "stream",
     "text": [
      "{'1': {'Data': '00:47:23.6552354', 'Dependencies': []}, '2': {'Data': '01:00:56.0712509', 'Dependencies': [1]}, '3': {'Data': '00:45:41.9822376', 'Dependencies': [1]}, '4': {'Data': '01:09:26.2243330', 'Dependencies': [1]}, '5': {'Data': '01:24:25.7910236', 'Dependencies': [2]}, '6': {'Data': '01:25:16.0078169', 'Dependencies': [4]}, '7': {'Data': '01:04:38.7031112', 'Dependencies': [2]}, '8': {'Data': '00:59:56.1902359', 'Dependencies': [5]}, '9': {'Data': '01:27:32.5795340', 'Dependencies': [7]}, '10': {'Data': '00:48:03.6393571', 'Dependencies': [8]}}\n"
     ]
    }
   ],
   "source": [
    "with open('./graphs/smallRandom.json', 'r') as f:\n",
    "    data = json.load(f)\n",
    "\n",
    "nodes = data['nodes']\n",
    "print(nodes)"
   ]
  },
  {
   "attachments": {},
   "cell_type": "markdown",
   "metadata": {},
   "source": [
    "Since the formula of the rank is $rank(i) = p_i + max_{j \\in succ(i)}(rank(j))$, it is more efficient to know both the predecessor and the successor of a node $i$."
   ]
  },
  {
   "cell_type": "code",
   "execution_count": 17,
   "metadata": {},
   "outputs": [],
   "source": [
    "def create_successors():\n",
    "    for node in nodes:\n",
    "        nodes[node]['Successors']=[]\n",
    "    for node in nodes :\n",
    "        depend = nodes[node]['Dependencies']\n",
    "        for i in depend :\n",
    "            nodes[str(i)]['Successors'].append(node)"
   ]
  },
  {
   "cell_type": "code",
   "execution_count": 18,
   "metadata": {},
   "outputs": [],
   "source": [
    "def weight(node):\n",
    "    pt = node['Data'].split(':')\n",
    "    time_s = float(pt[0])*3600 + float(pt[1])*60 + float(pt[2])\n",
    "    return time_s"
   ]
  },
  {
   "cell_type": "code",
   "execution_count": 19,
   "metadata": {},
   "outputs": [],
   "source": [
    "def add_ranks():\n",
    "    for node in nodes:\n",
    "        nodes[node]['rank'] = weight(nodes[node])\n",
    "        nodes[node]['rank_calculated'] = False\n",
    "\n",
    "# for node in nodes.values() :\n",
    "#     print(node['rank'])\n",
    "#     print(node['rank_calculated'])"
   ]
  },
  {
   "cell_type": "code",
   "execution_count": 20,
   "metadata": {},
   "outputs": [],
   "source": [
    "def calculate_rank(node):\n",
    "    if not nodes[node]['rank_calculated']:\n",
    "        succ = nodes[node]['Successors']     \n",
    "        rank = weight(nodes[node])\n",
    "        if len(succ) > 0:\n",
    "            for i in succ:\n",
    "                if not nodes[str(i)]['rank_calculated']:\n",
    "                    # print(\"couldn't calculate rank\")\n",
    "                    return 1  \n",
    "            weights = [nodes[str(i)]['rank'] for i in succ]\n",
    "            # print('node weight:',rank)\n",
    "            # print('successors:',succ)\n",
    "            # print('succ weights:',weights)\n",
    "            max_weights = max(weights)\n",
    "            # print('max:',max_weights)\n",
    "            rank += max_weights\n",
    "        nodes[node]['rank'] = rank\n",
    "        # print('calculated rank:', rank)\n",
    "        nodes[node]['rank_calculated'] = True\n",
    "    return 0"
   ]
  },
  {
   "cell_type": "code",
   "execution_count": 21,
   "metadata": {},
   "outputs": [],
   "source": [
    "def graph_update():\n",
    "    count = 0\n",
    "    for node in reversed(nodes.keys()):\n",
    "        # print('node:',node)\n",
    "        count += calculate_rank(node)\n",
    "    print('not calculated ranks:',count)    \n",
    "    return count"
   ]
  },
  {
   "cell_type": "code",
   "execution_count": 22,
   "metadata": {},
   "outputs": [],
   "source": [
    "create_successors()\n",
    "\n",
    "def p(nodes, i):\n",
    "    pt = nodes[i]['Data'].split(':')\n",
    "    return float(pt[0])*3600 + float(pt[1])*60 + float(pt[2])\n",
    "\n",
    "def change_type_Data(graph):\n",
    "    for node in graph:\n",
    "        if type(nodes[node]['Data']) == float:\n",
    "            break\n",
    "        pt = nodes[node]['Data'].split(':')\n",
    "        nodes[node]['Data'] = float(pt[0])*3600 + float(pt[1])*60 + float(pt[2])\n",
    "    \n",
    "change_type_Data(nodes)"
   ]
  },
  {
   "cell_type": "code",
   "execution_count": 23,
   "metadata": {},
   "outputs": [
    {
     "data": {
      "text/plain": [
       "2843.6552354"
      ]
     },
     "execution_count": 23,
     "metadata": {},
     "output_type": "execute_result"
    }
   ],
   "source": [
    "def rec_calc_rank(nodes, node):\n",
    "    succ = nodes[node]['Successors']\n",
    "    if len(succ) == 0 or 'Rank' in nodes[node]:\n",
    "        nodes[node]['Rank'] = nodes[node]['Data']\n",
    "        return nodes[node]['Data']\n",
    "    else:\n",
    "        m = 0\n",
    "        for i in succ:\n",
    "            u = rec_calc_rank(nodes, i)\n",
    "            if m < u :\n",
    "                m = u\n",
    "        nodes[node]['Rank'] = nodes[node]['Data'] + m\n",
    "        return nodes[node]['Data']\n",
    "    \n",
    "rec_calc_rank(nodes, '1')\n"
   ]
  },
  {
   "attachments": {},
   "cell_type": "markdown",
   "metadata": {},
   "source": [
    "Once we have calculated the rank of each node, we can make a priority list which is basically the list of the rank sorted in decreasing order."
   ]
  },
  {
   "cell_type": "code",
   "execution_count": 24,
   "metadata": {},
   "outputs": [],
   "source": [
    "def make_priority_list():\n",
    "    node_list = []\n",
    "    rank_list = []\n",
    "    for node in nodes:\n",
    "        node_list.append(node)\n",
    "        rank_list.append(nodes[node]['rank'])\n",
    "\n",
    "    # print(node_list)\n",
    "    # print(rank_list)\n",
    "    # indexes = np.flip(np.argsort(rank_list))\n",
    "    # sorted_nodes = [node_list[i] for i in indexes]\n",
    "    sorted_nodes = [x for _,x in sorted(zip(rank_list,node_list), reverse=True)]\n",
    "    return sorted_nodes"
   ]
  },
  {
   "cell_type": "code",
   "execution_count": 25,
   "metadata": {},
   "outputs": [],
   "source": [
    "def process_graph():\n",
    "    create_successors()\n",
    "    add_ranks()\n",
    "    rec_calc_rank(nodes, '1')\n",
    "    priority_list = make_priority_list()\n",
    "    return priority_list\n",
    "    "
   ]
  },
  {
   "cell_type": "code",
   "execution_count": 26,
   "metadata": {},
   "outputs": [
    {
     "ename": "AttributeError",
     "evalue": "'float' object has no attribute 'split'",
     "output_type": "error",
     "traceback": [
      "\u001b[1;31m---------------------------------------------------------------------------\u001b[0m",
      "\u001b[1;31mAttributeError\u001b[0m                            Traceback (most recent call last)",
      "Cell \u001b[1;32mIn[26], line 2\u001b[0m\n\u001b[0;32m      1\u001b[0m start_time \u001b[39m=\u001b[39m time\u001b[39m.\u001b[39mtime()\n\u001b[1;32m----> 2\u001b[0m priority_list \u001b[39m=\u001b[39m process_graph()\n\u001b[0;32m      3\u001b[0m duration \u001b[39m=\u001b[39m time\u001b[39m.\u001b[39mtime() \u001b[39m-\u001b[39m start_time\n\u001b[0;32m      4\u001b[0m \u001b[39m# print(priority_list)\u001b[39;00m\n\u001b[0;32m      5\u001b[0m \u001b[39m# print(len(nodes))\u001b[39;00m\n\u001b[0;32m      6\u001b[0m \u001b[39m# print(len(priority_list))\u001b[39;00m\n",
      "Cell \u001b[1;32mIn[25], line 3\u001b[0m, in \u001b[0;36mprocess_graph\u001b[1;34m()\u001b[0m\n\u001b[0;32m      1\u001b[0m \u001b[39mdef\u001b[39;00m \u001b[39mprocess_graph\u001b[39m():\n\u001b[0;32m      2\u001b[0m     create_successors()\n\u001b[1;32m----> 3\u001b[0m     add_ranks()\n\u001b[0;32m      4\u001b[0m     rec_calc_rank(nodes, \u001b[39m'\u001b[39m\u001b[39m1\u001b[39m\u001b[39m'\u001b[39m)\n\u001b[0;32m      5\u001b[0m     priority_list \u001b[39m=\u001b[39m make_priority_list()\n",
      "Cell \u001b[1;32mIn[19], line 3\u001b[0m, in \u001b[0;36madd_ranks\u001b[1;34m()\u001b[0m\n\u001b[0;32m      1\u001b[0m \u001b[39mdef\u001b[39;00m \u001b[39madd_ranks\u001b[39m():\n\u001b[0;32m      2\u001b[0m     \u001b[39mfor\u001b[39;00m node \u001b[39min\u001b[39;00m nodes:\n\u001b[1;32m----> 3\u001b[0m         nodes[node][\u001b[39m'\u001b[39m\u001b[39mrank\u001b[39m\u001b[39m'\u001b[39m] \u001b[39m=\u001b[39m weight(nodes[node])\n\u001b[0;32m      4\u001b[0m         nodes[node][\u001b[39m'\u001b[39m\u001b[39mrank_calculated\u001b[39m\u001b[39m'\u001b[39m] \u001b[39m=\u001b[39m \u001b[39mFalse\u001b[39;00m\n",
      "Cell \u001b[1;32mIn[18], line 2\u001b[0m, in \u001b[0;36mweight\u001b[1;34m(node)\u001b[0m\n\u001b[0;32m      1\u001b[0m \u001b[39mdef\u001b[39;00m \u001b[39mweight\u001b[39m(node):\n\u001b[1;32m----> 2\u001b[0m     pt \u001b[39m=\u001b[39m node[\u001b[39m'\u001b[39;49m\u001b[39mData\u001b[39;49m\u001b[39m'\u001b[39;49m]\u001b[39m.\u001b[39;49msplit(\u001b[39m'\u001b[39m\u001b[39m:\u001b[39m\u001b[39m'\u001b[39m)\n\u001b[0;32m      3\u001b[0m     time_s \u001b[39m=\u001b[39m \u001b[39mfloat\u001b[39m(pt[\u001b[39m0\u001b[39m])\u001b[39m*\u001b[39m\u001b[39m3600\u001b[39m \u001b[39m+\u001b[39m \u001b[39mfloat\u001b[39m(pt[\u001b[39m1\u001b[39m])\u001b[39m*\u001b[39m\u001b[39m60\u001b[39m \u001b[39m+\u001b[39m \u001b[39mfloat\u001b[39m(pt[\u001b[39m2\u001b[39m])\n\u001b[0;32m      4\u001b[0m     \u001b[39mreturn\u001b[39;00m time_s\n",
      "\u001b[1;31mAttributeError\u001b[0m: 'float' object has no attribute 'split'"
     ]
    }
   ],
   "source": [
    "start_time = time.time()\n",
    "priority_list = process_graph()\n",
    "duration = time.time() - start_time\n",
    "# print(priority_list)\n",
    "# print(len(nodes))\n",
    "# print(len(priority_list))\n",
    "print('duration:', duration)\n",
    "print(priority_list)\n",
    "\n"
   ]
  },
  {
   "cell_type": "code",
   "execution_count": null,
   "metadata": {},
   "outputs": [],
   "source": [
    "def calculate_execution_time(priority_list,n_cores):\n",
    "    execution_times = [0]*n_cores\n",
    "    for node in priority_list :\n",
    "        task_time = weight(nodes[node])\n",
    "        i = np.argmin(execution_times)\n",
    "        execution_times[i] += task_time\n",
    "    return execution_times"
   ]
  },
  {
   "cell_type": "code",
   "execution_count": null,
   "metadata": {},
   "outputs": [
    {
     "data": {
      "text/plain": [
       "[19641.855386000003, 19558.9887496]"
      ]
     },
     "execution_count": 50,
     "metadata": {},
     "output_type": "execute_result"
    }
   ],
   "source": [
    "calculate_execution_time(priority_list,2)"
   ]
  }
 ],
 "metadata": {
  "kernelspec": {
   "display_name": "Python 3",
   "language": "python",
   "name": "python3"
  },
  "language_info": {
   "codemirror_mode": {
    "name": "ipython",
    "version": 3
   },
   "file_extension": ".py",
   "mimetype": "text/x-python",
   "name": "python",
   "nbconvert_exporter": "python",
   "pygments_lexer": "ipython3",
   "version": "3.10.6"
  },
  "orig_nbformat": 4,
  "vscode": {
   "interpreter": {
    "hash": "0247af2ad54b89941d5bbc349ce0bb468cceffd3de09303ac244a9d0972ce8b5"
   }
  }
 },
 "nbformat": 4,
 "nbformat_minor": 2
}
