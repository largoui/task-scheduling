{
 "cells": [
  {
   "cell_type": "code",
   "execution_count": 1,
   "metadata": {},
   "outputs": [],
   "source": [
    "import graphviz\n",
    "from datetime import datetime\n",
    "import json\n",
    "import numpy as np\n",
    "import time"
   ]
  },
  {
   "cell_type": "code",
   "execution_count": 2,
   "metadata": {},
   "outputs": [
    {
     "name": "stdout",
     "output_type": "stream",
     "text": [
      "./graphs/smallRandom.json\n"
     ]
    }
   ],
   "source": [
    "names = ['smallRandom','xsmallComplex','smallComplex','mediumRandom','MediumComplex','largeComplex','xlargeComplex','xxlargeComplex']\n",
    "def create_path(names):\n",
    "    paths = []\n",
    "    for name in names : \n",
    "        path = './graphs/{}.json'.format(name)\n",
    "        paths.append(path)\n",
    "    return paths\n",
    "paths = create_path(names)\n",
    "print(paths[0])"
   ]
  },
  {
   "cell_type": "code",
   "execution_count": 3,
   "metadata": {},
   "outputs": [
    {
     "name": "stdout",
     "output_type": "stream",
     "text": [
      "['./graphs/smallRandom.json', './graphs/xsmallComplex.json', './graphs/smallComplex.json', './graphs/mediumRandom.json', './graphs/MediumComplex.json', './graphs/largeComplex.json', './graphs/xlargeComplex.json', './graphs/xxlargeComplex.json']\n"
     ]
    }
   ],
   "source": [
    "print(paths)\n",
    "file_num = 0"
   ]
  },
  {
   "cell_type": "code",
   "execution_count": 4,
   "metadata": {},
   "outputs": [],
   "source": [
    "with open(paths[file_num], 'r') as f:\n",
    "    data = json.load(f)\n",
    "\n",
    "nodes = data['nodes']"
   ]
  },
  {
   "cell_type": "code",
   "execution_count": 5,
   "metadata": {},
   "outputs": [],
   "source": [
    "def create_successors():\n",
    "    ready_to_start = {}\n",
    "    for node in nodes:\n",
    "        nodes[node]['Successors']=[]\n",
    "    for node in nodes :\n",
    "        depend = nodes[node]['Dependencies']\n",
    "        if len(depend)>0:\n",
    "            for i in depend :\n",
    "                nodes[str(i)]['Successors'].append(node)\n",
    "        else :\n",
    "            ready_to_start[node]=0\n",
    "            # print(node)\n",
    "    return ready_to_start"
   ]
  },
  {
   "cell_type": "code",
   "execution_count": 6,
   "metadata": {},
   "outputs": [],
   "source": [
    "# create_successors()\n",
    "# nodes"
   ]
  },
  {
   "cell_type": "code",
   "execution_count": 7,
   "metadata": {},
   "outputs": [],
   "source": [
    "def weight(node):\n",
    "    pt = node['Data'].split(':')\n",
    "    time_s = float(pt[0])*3600 + float(pt[1])*60 + float(pt[2])\n",
    "    return time_s"
   ]
  },
  {
   "cell_type": "code",
   "execution_count": 8,
   "metadata": {},
   "outputs": [],
   "source": [
    "def add_ranks():\n",
    "    for node in nodes:\n",
    "        nodes[node]['rank'] = weight(nodes[node])\n",
    "        nodes[node]['rank_calculated'] = False\n",
    "        nodes[node]['finished'] = False\n",
    "\n",
    "# for node in nodes.values() :\n",
    "#     print(node['rank'])\n",
    "#     print(node['rank_calculated'])"
   ]
  },
  {
   "cell_type": "code",
   "execution_count": 9,
   "metadata": {},
   "outputs": [],
   "source": [
    "def calculate_rank(node):\n",
    "    if not nodes[node]['rank_calculated']:\n",
    "        succ = nodes[node]['Successors']     \n",
    "        rank = weight(nodes[node])\n",
    "        if len(succ) > 0:\n",
    "            for i in succ:\n",
    "                if not nodes[str(i)]['rank_calculated']:\n",
    "                    # print(\"couldn't calculate rank\")\n",
    "                    return 1  \n",
    "            weights = [nodes[str(i)]['rank'] for i in succ]\n",
    "            # print('node weight:',rank)\n",
    "            # print('successors:',succ)\n",
    "            # print('succ weights:',weights)\n",
    "            max_weights = max(weights)\n",
    "            # print('max:',max_weights)\n",
    "            rank += max_weights\n",
    "        nodes[node]['rank'] = rank\n",
    "        # print('calculated rank:', rank)\n",
    "        nodes[node]['rank_calculated'] = True\n",
    "    return 0"
   ]
  },
  {
   "cell_type": "code",
   "execution_count": 10,
   "metadata": {},
   "outputs": [],
   "source": [
    "def graph_update():\n",
    "    count = 0\n",
    "    for node in reversed(nodes.keys()):\n",
    "        # print('node:',node)\n",
    "        count += calculate_rank(node)\n",
    "    # print('not calculated ranks:',count)    \n",
    "    return count"
   ]
  },
  {
   "cell_type": "code",
   "execution_count": 11,
   "metadata": {},
   "outputs": [],
   "source": [
    "def calculate_ranks():\n",
    "    epoch = 1\n",
    "    count = 1\n",
    "    while count > 0:\n",
    "        # print('epoch:',epoch)\n",
    "        count = graph_update()\n",
    "        epoch+=1\n",
    "    # print('rank calculation done')"
   ]
  },
  {
   "cell_type": "code",
   "execution_count": 12,
   "metadata": {},
   "outputs": [],
   "source": [
    "def make_priority_list():\n",
    "    node_list = []\n",
    "    rank_list = []\n",
    "    for node in nodes:\n",
    "        node_list.append(node)\n",
    "        rank_list.append(nodes[node]['rank'])\n",
    "\n",
    "    # print(node_list)\n",
    "    # print(rank_list)\n",
    "    # indexes = np.flip(np.argsort(rank_list))\n",
    "    # sorted_nodes = [node_list[i] for i in indexes]\n",
    "    sorted_nodes = [x for _,x in sorted(zip(rank_list,node_list), reverse=True)]\n",
    "    return sorted_nodes"
   ]
  },
  {
   "cell_type": "code",
   "execution_count": 13,
   "metadata": {},
   "outputs": [],
   "source": [
    "def process_graph():\n",
    "    ready_to_start = create_successors()\n",
    "    add_ranks()\n",
    "    calculate_ranks()\n",
    "    priority_list = make_priority_list()\n",
    "    return ready_to_start, priority_list\n",
    "    "
   ]
  },
  {
   "cell_type": "code",
   "execution_count": 14,
   "metadata": {},
   "outputs": [
    {
     "name": "stdout",
     "output_type": "stream",
     "text": [
      "duration: 0.0009970664978027344\n"
     ]
    }
   ],
   "source": [
    "start_time = time.time()\n",
    "ready_to_start, priority_list = process_graph()\n",
    "duration = time.time() - start_time\n",
    "# print(priority_list)\n",
    "# print(len(nodes))\n",
    "# print(len(priority_list))\n",
    "print('duration:', duration)\n"
   ]
  },
  {
   "cell_type": "code",
   "execution_count": 15,
   "metadata": {},
   "outputs": [
    {
     "name": "stdout",
     "output_type": "stream",
     "text": [
      "{'1': 0}\n",
      "['1', '2', '5', '4', '7', '8', '9', '6', '10', '3']\n"
     ]
    }
   ],
   "source": [
    "print(ready_to_start)\n",
    "print(priority_list)"
   ]
  },
  {
   "cell_type": "code",
   "execution_count": 16,
   "metadata": {},
   "outputs": [],
   "source": [
    "# def calculate_execution_time(priority_list,n_cores):\n",
    "#     execution_times = [0]*n_cores\n",
    "#     for node in priority_list :\n",
    "#         task_time = weight(nodes[node])\n",
    "#         i = np.argmin(execution_times)\n",
    "#         execution_times[i] += task_time\n",
    "#     return execution_times"
   ]
  },
  {
   "cell_type": "code",
   "execution_count": 17,
   "metadata": {},
   "outputs": [],
   "source": [
    "# core_times = calculate_execution_time(priority_list,2)\n",
    "# print(core_times)\n",
    "# print(min(core_times))\n"
   ]
  },
  {
   "cell_type": "code",
   "execution_count": 18,
   "metadata": {},
   "outputs": [],
   "source": [
    "# times = []\n",
    "# priority_lists=[]\n",
    "# for path in paths :\n",
    "#     print('proccessing graph:', path)   \n",
    "#     with open(path, 'r') as f:\n",
    "#         data = json.load(f)\n",
    "#     nodes = data['nodes']\n",
    "#     start_time = time.time()\n",
    "#     priority_list = process_graph()\n",
    "#     end_time = time.time()\n",
    "#     print('duration :', end_time - start_time)\n",
    "#     priority_lists.append(priority_list)\n",
    "#     core_times = calculate_execution_time(priority_list,2)\n",
    "#     execution_time = min(core_times)\n",
    "#     print(execution_time)\n",
    "#     times.append(execution_time)\n",
    "#     del(nodes)\n",
    "\n",
    "# print(times)\n",
    "\n",
    "    "
   ]
  },
  {
   "cell_type": "code",
   "execution_count": 19,
   "metadata": {},
   "outputs": [
    {
     "name": "stdout",
     "output_type": "stream",
     "text": [
      "['1', '2', '5', '4', '7', '8', '9', '6', '10', '3']\n",
      "['1', '2', '5', '4', '7', '8', '9', '6', '10', '3']\n"
     ]
    }
   ],
   "source": [
    "print(priority_list)\n",
    "priority_list_save = priority_list.copy()\n",
    "print(priority_list_save)"
   ]
  },
  {
   "cell_type": "code",
   "execution_count": 20,
   "metadata": {},
   "outputs": [],
   "source": [
    "# import matplotlib.pyplot as plt\n",
    "# plt.figure()\n",
    "# plt.title('evolution of graph execution time')\n",
    "# plt.plot(times)\n"
   ]
  },
  {
   "cell_type": "code",
   "execution_count": 21,
   "metadata": {},
   "outputs": [
    {
     "name": "stdout",
     "output_type": "stream",
     "text": [
      "{0: [], 1: []}\n"
     ]
    }
   ],
   "source": [
    "def make_empty_schedule(n_cores):\n",
    "    schedule = {i:[] for i in range(n_cores)}\n",
    "    return schedule\n",
    "\n",
    "n_cores = 2\n",
    "schedule = make_empty_schedule(n_cores)\n",
    "print(schedule)"
   ]
  },
  {
   "cell_type": "code",
   "execution_count": 22,
   "metadata": {},
   "outputs": [],
   "source": [
    "\n",
    "\n",
    "def get_end_times(schedule):\n",
    "    end_times = {}\n",
    "    cores_that_did_smth = []\n",
    "    for core in schedule : \n",
    "        if len(schedule[core])==0 :\n",
    "            end_times[core] = 0\n",
    "        else :\n",
    "            end_times[core] = schedule[core][-1]['end']\n",
    "            cores_that_did_smth.append(core)\n",
    "\n",
    "    return end_times, cores_that_did_smth\n",
    "\n",
    "def update_ready_to_start(finished_task, task_end_time):\n",
    "    # ready_to_start_copy = ready_to_start.copy()\n",
    "    nodes[finished_task]['finished'] = True\n",
    "    succ = nodes[finished_task]['Successors']\n",
    "    if len(succ)>0:\n",
    "        for node in succ:\n",
    "            dep_done = [nodes[str(dep)]['finished'] for dep in nodes[node]['Dependencies']]\n",
    "            if not (False in dep_done) :\n",
    "                ready_to_start[node] = task_end_time\n",
    "\n",
    "def gef_first_core_ready(end_times, cores_that_did_smth):\n",
    "    end_times_copy = end_times.copy()\n",
    "    print(end_times_copy)\n",
    "    ind = min(end_times_copy, key=end_times.get)\n",
    "    task_end_time = end_times_copy.pop(ind)\n",
    "    if len(cores_that_did_smth)>0 :\n",
    "        if ind in cores_that_did_smth : \n",
    "            finished_task = schedule[ind][-1]['task']\n",
    "            update_ready_to_start(finished_task, task_end_time)\n",
    "    else :\n",
    "        print('no tasks done')\n",
    "    return ind, task_end_time, end_times_copy\n",
    "\n",
    "def get_next_task():\n",
    "    task = priority_list[0]\n",
    "    return task\n",
    "\n",
    "def try_assign_process(task, core, start_time):\n",
    "    if len(ready_to_start)>0 :\n",
    "        if task in ready_to_start and ready_to_start[task]<=start_time :\n",
    "            end_time = start_time + weight(nodes[task])\n",
    "            schedule[core].append({'task':task, 'start':start_time, 'end':end_time})\n",
    "            ready_to_start.pop(task)\n",
    "            if len(priority_list)>0 :     \n",
    "                for i in range(len(priority_list)):\n",
    "                    if task == priority_list[i] : \n",
    "                        priority_list.pop(i)\n",
    "                        return True\n",
    "            return True    \n",
    "    return False\n",
    "\n",
    "def update_dead_time(dead_time_list, done, time_stamp, ind):\n",
    "    dead_time_copy = dead_time_list.copy()\n",
    "    if done and len(dead_time_copy)>0 :\n",
    "        for dead_time in dead_time_copy :\n",
    "            dead_time['end'] = time_stamp\n",
    "    else :\n",
    "        dead_time_copy.append({'core':ind, 'start':time_stamp, 'end':0})\n",
    "    # for core in dead_time_copy :\n",
    "    #     dead_time_copy[core]['duration'] = dead_time_copy[core]['end'] - dead_time_copy[core]['start']\n",
    "    return dead_time_copy\n",
    "\n",
    "def fill_schedule():\n",
    "    dead_time_list = []\n",
    "    end_times, cores_that_did_smth = get_end_times(schedule)\n",
    "    print('end_times:', end_times)\n",
    "    done = False\n",
    "    while not done :\n",
    "        ind, time_stamp, end_times = gef_first_core_ready(end_times, cores_that_did_smth)\n",
    "        # print(ind, time_stamp)\n",
    "        task = get_next_task()\n",
    "        done = try_assign_process(task, ind, time_stamp)\n",
    "        dead_time_list = update_dead_time(dead_time_list, done, time_stamp, ind)\n",
    "    return dead_time_list\n",
    "\n",
    "def find_dead_time(dead_time_list) :\n",
    "    max_val = -1\n",
    "    max_ind = -1\n",
    "    for i in range(len(dead_time_list)):\n",
    "        new_val = dead_time_list[i]['start']\n",
    "        if new_val>max_val :\n",
    "            max_val = new_val\n",
    "            max_ind = i\n",
    "    # idle_intervals = []\n",
    "    # for interval in dead_time_copy :\n",
    "    #     idle_intervals.append(interval['start'])\n",
    "    # i = np.argmax(idle_intervals)\n",
    "    return max_ind\n",
    "\n",
    "\n",
    "def fill_dead_time(dead_time_list):\n",
    "    dead_time_copy = dead_time_list.copy()\n",
    "    \n",
    "    while len(dead_time_copy) > 0 :\n",
    "        i = find_dead_time(dead_time_copy)\n",
    "        dead_time_end = dead_time_copy[i]['end']\n",
    "        dead_time_start = dead_time_copy[i]['start']\n",
    "        idle_core = dead_time_copy[i]['core']\n",
    "        possible_tasks = {}\n",
    "        print('tasks ready', ready_to_start)\n",
    "\n",
    "        for task in ready_to_start :\n",
    "            task_available_start = ready_to_start[task]\n",
    "            start_time = max(dead_time_start,task_available_start)\n",
    "            if task_available_start<=dead_time_end and weight(nodes[task])<= dead_time_end - start_time :\n",
    "                possible_tasks[task]=nodes[task]['rank']\n",
    "        \n",
    "        if len(possible_tasks)>0 :\n",
    "            print('possible tasks to fill dead time', possible_tasks)\n",
    "            task_start_time = ready_to_start[task]\n",
    "            task_to_do = max(possible_tasks, key=possible_tasks.get)\n",
    "            print(task_to_do)\n",
    "            start_time = max(dead_time_start,task_start_time)\n",
    "            task_end_time = start_time + weight(nodes[task])\n",
    "            try_assign_process(task_to_do, idle_core, start_time)\n",
    "            if dead_time_start<task_start_time :\n",
    "                dead_time_copy.append({'core':idle_core, 'start':dead_time_start, 'end':task_start_time})\n",
    "            if task_end_time<dead_time_end :\n",
    "                dead_time_copy.append({'core':idle_core, 'start':task_end_time, 'end':dead_time_end})\n",
    "        dead_time_copy.pop(i) \n",
    "   \n",
    "\n",
    "    \n"
   ]
  },
  {
   "cell_type": "code",
   "execution_count": 23,
   "metadata": {},
   "outputs": [
    {
     "name": "stdout",
     "output_type": "stream",
     "text": [
      "{0: 0, 1: 0} []\n"
     ]
    }
   ],
   "source": [
    "end_times, cores_that_did_smth = get_end_times(schedule)\n",
    "print(end_times, cores_that_did_smth)\n"
   ]
  },
  {
   "cell_type": "code",
   "execution_count": 24,
   "metadata": {},
   "outputs": [
    {
     "name": "stdout",
     "output_type": "stream",
     "text": [
      "{0: 0, 1: 0}\n",
      "no tasks done\n",
      "0 0 {1: 0}\n"
     ]
    }
   ],
   "source": [
    "ind, task_end_time, end_times = gef_first_core_ready(end_times, cores_that_did_smth)\n",
    "print(ind,task_end_time,end_times)"
   ]
  },
  {
   "cell_type": "code",
   "execution_count": 25,
   "metadata": {},
   "outputs": [
    {
     "name": "stdout",
     "output_type": "stream",
     "text": [
      "end_times: {0: 0, 1: 0}\n",
      "{0: 0, 1: 0}\n",
      "no tasks done\n",
      "[{'core': 0, 'start': 0, 'end': 0}]\n",
      "tasks ready {}\n",
      "no task ready to start, verifying all tasks are done\n",
      "task not finished : 1\n",
      "task not finished : 2\n",
      "task not finished : 3\n",
      "task not finished : 4\n",
      "task not finished : 5\n",
      "task not finished : 6\n",
      "task not finished : 7\n",
      "task not finished : 8\n",
      "task not finished : 9\n",
      "task not finished : 10\n",
      "{0: [{'task': '1', 'start': 0, 'end': 2843.6552354}], 1: []}\n",
      "end_times: {0: 2843.6552354, 1: 0}\n",
      "{0: 2843.6552354, 1: 0}\n",
      "{0: 2843.6552354}\n",
      "[{'core': 1, 'start': 0, 'end': 2843.6552354}]\n",
      "tasks ready {'3': 2843.6552354, '4': 2843.6552354}\n",
      "{0: [{'task': '1', 'start': 0, 'end': 2843.6552354}, {'task': '2', 'start': 2843.6552354, 'end': 6499.7264863}], 1: []}\n",
      "end_times: {0: 6499.7264863, 1: 0}\n",
      "{0: 6499.7264863, 1: 0}\n",
      "{0: 6499.7264863}\n",
      "[{'core': 1, 'start': 0, 'end': 6499.7264863}]\n",
      "tasks ready {'3': 2843.6552354, '4': 2843.6552354, '7': 6499.7264863}\n",
      "possible tasks to fill dead time {'3': 2741.9822376}\n",
      "3\n",
      "tasks ready {'4': 2843.6552354, '7': 6499.7264863}\n",
      "{0: [{'task': '1', 'start': 0, 'end': 2843.6552354}, {'task': '2', 'start': 2843.6552354, 'end': 6499.7264863}, {'task': '5', 'start': 6499.7264863, 'end': 11565.5175099}], 1: [{'task': '3', 'start': 6499.7264863, 'end': 9241.7087239}]}\n",
      "end_times: {0: 11565.5175099, 1: 9241.7087239}\n",
      "{0: 11565.5175099, 1: 9241.7087239}\n",
      "[{'core': 1, 'start': 9241.7087239, 'end': 0}]\n",
      "tasks ready {'7': 6499.7264863}\n",
      "{0: [{'task': '1', 'start': 0, 'end': 2843.6552354}, {'task': '2', 'start': 2843.6552354, 'end': 6499.7264863}, {'task': '5', 'start': 6499.7264863, 'end': 11565.5175099}], 1: [{'task': '3', 'start': 6499.7264863, 'end': 9241.7087239}, {'task': '4', 'start': 9241.7087239, 'end': 13407.9330569}]}\n",
      "end_times: {0: 11565.5175099, 1: 13407.9330569}\n",
      "{0: 11565.5175099, 1: 13407.9330569}\n",
      "[{'core': 0, 'start': 11565.5175099, 'end': 0}]\n",
      "tasks ready {'8': 11565.5175099}\n",
      "{0: [{'task': '1', 'start': 0, 'end': 2843.6552354}, {'task': '2', 'start': 2843.6552354, 'end': 6499.7264863}, {'task': '5', 'start': 6499.7264863, 'end': 11565.5175099}, {'task': '7', 'start': 11565.5175099, 'end': 15444.220621100001}], 1: [{'task': '3', 'start': 6499.7264863, 'end': 9241.7087239}, {'task': '4', 'start': 9241.7087239, 'end': 13407.9330569}]}\n",
      "end_times: {0: 15444.220621100001, 1: 13407.9330569}\n",
      "{0: 15444.220621100001, 1: 13407.9330569}\n",
      "[{'core': 1, 'start': 13407.9330569, 'end': 0}]\n",
      "tasks ready {'6': 13407.9330569}\n",
      "{0: [{'task': '1', 'start': 0, 'end': 2843.6552354}, {'task': '2', 'start': 2843.6552354, 'end': 6499.7264863}, {'task': '5', 'start': 6499.7264863, 'end': 11565.5175099}, {'task': '7', 'start': 11565.5175099, 'end': 15444.220621100001}], 1: [{'task': '3', 'start': 6499.7264863, 'end': 9241.7087239}, {'task': '4', 'start': 9241.7087239, 'end': 13407.9330569}, {'task': '8', 'start': 13407.9330569, 'end': 17004.1232928}]}\n",
      "end_times: {0: 15444.220621100001, 1: 17004.1232928}\n",
      "{0: 15444.220621100001, 1: 17004.1232928}\n",
      "[{'core': 0, 'start': 15444.220621100001, 'end': 0}]\n",
      "tasks ready {'6': 13407.9330569}\n",
      "{0: [{'task': '1', 'start': 0, 'end': 2843.6552354}, {'task': '2', 'start': 2843.6552354, 'end': 6499.7264863}, {'task': '5', 'start': 6499.7264863, 'end': 11565.5175099}, {'task': '7', 'start': 11565.5175099, 'end': 15444.220621100001}, {'task': '9', 'start': 15444.220621100001, 'end': 20696.8001551}], 1: [{'task': '3', 'start': 6499.7264863, 'end': 9241.7087239}, {'task': '4', 'start': 9241.7087239, 'end': 13407.9330569}, {'task': '8', 'start': 13407.9330569, 'end': 17004.1232928}]}\n",
      "end_times: {0: 20696.8001551, 1: 17004.1232928}\n",
      "{0: 20696.8001551, 1: 17004.1232928}\n",
      "[{'core': 1, 'start': 17004.1232928, 'end': 0}]\n",
      "tasks ready {'10': 17004.1232928}\n",
      "{0: [{'task': '1', 'start': 0, 'end': 2843.6552354}, {'task': '2', 'start': 2843.6552354, 'end': 6499.7264863}, {'task': '5', 'start': 6499.7264863, 'end': 11565.5175099}, {'task': '7', 'start': 11565.5175099, 'end': 15444.220621100001}, {'task': '9', 'start': 15444.220621100001, 'end': 20696.8001551}], 1: [{'task': '3', 'start': 6499.7264863, 'end': 9241.7087239}, {'task': '4', 'start': 9241.7087239, 'end': 13407.9330569}, {'task': '8', 'start': 13407.9330569, 'end': 17004.1232928}, {'task': '6', 'start': 17004.1232928, 'end': 22120.1311097}]}\n",
      "end_times: {0: 20696.8001551, 1: 22120.1311097}\n",
      "{0: 20696.8001551, 1: 22120.1311097}\n",
      "[{'core': 0, 'start': 20696.8001551, 'end': 0}]\n",
      "tasks ready {}\n",
      "no task ready to start, verifying all tasks are done\n",
      "{0: [{'task': '1', 'start': 0, 'end': 2843.6552354}, {'task': '2', 'start': 2843.6552354, 'end': 6499.7264863}, {'task': '5', 'start': 6499.7264863, 'end': 11565.5175099}, {'task': '7', 'start': 11565.5175099, 'end': 15444.220621100001}, {'task': '9', 'start': 15444.220621100001, 'end': 20696.8001551}, {'task': '10', 'start': 20696.8001551, 'end': 23580.439512200002}], 1: [{'task': '3', 'start': 6499.7264863, 'end': 9241.7087239}, {'task': '4', 'start': 9241.7087239, 'end': 13407.9330569}, {'task': '8', 'start': 13407.9330569, 'end': 17004.1232928}, {'task': '6', 'start': 17004.1232928, 'end': 22120.1311097}]}\n"
     ]
    }
   ],
   "source": [
    "n_cores = 2\n",
    "schedule = make_empty_schedule(n_cores)\n",
    "priority_list = priority_list_save.copy()\n",
    "all_done = False\n",
    "while not all_done :\n",
    "    all_done = True\n",
    "    dead_time_list = fill_schedule()\n",
    "    print(dead_time_list)\n",
    "    fill_dead_time(dead_time_list)\n",
    "    if len(ready_to_start)>0 :\n",
    "        all_done = False\n",
    "    else : \n",
    "        print('no task ready to start, verifying all tasks are done')  \n",
    "        if len(priority_list)>0: \n",
    "            for node in nodes :\n",
    "                if nodes[node]['finished']==False :\n",
    "                    print('task not finished :', node)\n",
    "                    all_done = False\n",
    "    print(schedule)\n",
    "\n",
    "    \n"
   ]
  },
  {
   "cell_type": "code",
   "execution_count": 26,
   "metadata": {},
   "outputs": [],
   "source": [
    "def get_score_1(schedule):\n",
    "    score = 0\n",
    "    for core_list in schedule.values() :\n",
    "        if len(core_list)>0 :\n",
    "            new_score = core_list[-1]['end']\n",
    "            if new_score>score :\n",
    "                score = new_score\n",
    "    return score\n",
    "\n",
    "def get_score_2(schedule):\n",
    "    score = 0\n",
    "    for core_list in schedule.values() :\n",
    "        for task in core_list :\n",
    "            new_score = task['end']\n",
    "            if new_score>score :\n",
    "                score = new_score\n",
    "    return score\n"
   ]
  },
  {
   "cell_type": "code",
   "execution_count": 27,
   "metadata": {},
   "outputs": [
    {
     "data": {
      "text/plain": [
       "23580.439512200002"
      ]
     },
     "execution_count": 27,
     "metadata": {},
     "output_type": "execute_result"
    }
   ],
   "source": [
    "get_score_2(schedule)\n"
   ]
  },
  {
   "cell_type": "code",
   "execution_count": 28,
   "metadata": {},
   "outputs": [
    {
     "name": "stdout",
     "output_type": "stream",
     "text": [
      "Requirement already satisfied: plotly==5.13.1 in c:\\users\\nizar\\appdata\\local\\packages\\pythonsoftwarefoundation.python.3.11_qbz5n2kfra8p0\\localcache\\local-packages\\python311\\site-packages (5.13.1)\n",
      "Requirement already satisfied: tenacity>=6.2.0 in c:\\users\\nizar\\appdata\\local\\packages\\pythonsoftwarefoundation.python.3.11_qbz5n2kfra8p0\\localcache\\local-packages\\python311\\site-packages (from plotly==5.13.1) (8.2.2)\n"
     ]
    }
   ],
   "source": [
    "!pip install plotly==5.13.1"
   ]
  },
  {
   "cell_type": "code",
   "execution_count": 29,
   "metadata": {},
   "outputs": [],
   "source": [
    "import pandas as pd\n",
    "\n",
    "def trasnform_schedule_to_pd(schedule):\n",
    "    table = []\n",
    "    for core_id in schedule :\n",
    "        for task in schedule[core_id] :\n",
    "            rank_val = nodes[task['task']]['rank']\n",
    "            val = dict(Task = task['task'], Core = core_id, Start = task['start'], End = task['end'], Rank = rank_val)\n",
    "            table.append(val)\n",
    "    return pd.DataFrame(table)        \n"
   ]
  },
  {
   "cell_type": "code",
   "execution_count": 30,
   "metadata": {},
   "outputs": [
    {
     "ename": "NameError",
     "evalue": "name 'task' is not defined",
     "output_type": "error",
     "traceback": [
      "\u001b[1;31m---------------------------------------------------------------------------\u001b[0m",
      "\u001b[1;31mNameError\u001b[0m                                 Traceback (most recent call last)",
      "\u001b[1;32m~\\AppData\\Local\\Temp/ipykernel_12640/1447585690.py\u001b[0m in \u001b[0;36m<module>\u001b[1;34m\u001b[0m\n\u001b[1;32m----> 1\u001b[1;33m \u001b[0mprint\u001b[0m\u001b[1;33m(\u001b[0m\u001b[0mnodes\u001b[0m\u001b[1;33m[\u001b[0m\u001b[0mtask\u001b[0m\u001b[1;33m]\u001b[0m\u001b[1;33m[\u001b[0m\u001b[1;34m'rank'\u001b[0m\u001b[1;33m]\u001b[0m\u001b[1;33m)\u001b[0m\u001b[1;33m\u001b[0m\u001b[1;33m\u001b[0m\u001b[0m\n\u001b[0m",
      "\u001b[1;31mNameError\u001b[0m: name 'task' is not defined"
     ]
    }
   ],
   "source": [
    "print(nodes[task]['rank'])"
   ]
  },
  {
   "cell_type": "code",
   "execution_count": null,
   "metadata": {},
   "outputs": [
    {
     "name": "stdout",
     "output_type": "stream",
     "text": [
      "  Task  Core         Start           End          Rank\n",
      "0    1     0      0.000000   2843.655235  18045.347103\n",
      "1    2     0   2843.655235   6499.726486  15201.691868\n",
      "2    5     0   6499.726486  11565.517510  11545.620617\n",
      "3    7     0  11565.517510  15444.220621   9131.282645\n",
      "4    9     0  15444.220621  20696.800155   5252.579534\n",
      "5   10     0  20696.800155  23580.439512   2883.639357\n",
      "6    3     1   6499.726486   9241.708724   2741.982238\n",
      "7    4     1   9241.708724  13407.933057   9282.232150\n",
      "8    8     1  13407.933057  17004.123293   6479.829593\n",
      "9    6     1  17004.123293  22120.131110   5116.007817\n"
     ]
    }
   ],
   "source": [
    "from pathlib import Path  \n",
    "pd_schedule = trasnform_schedule_to_pd(schedule)\n",
    "print(pd_schedule)\n",
    "path_name = 'schedules/{}.csv'.format(names[file_num])\n",
    "filepath = Path(path_name)  \n",
    "filepath.parent.mkdir(parents=True, exist_ok=True)  \n",
    "pd_schedule.to_csv(filepath)  \n"
   ]
  }
 ],
 "metadata": {
  "kernelspec": {
   "display_name": "Python 3",
   "language": "python",
   "name": "python3"
  },
  "language_info": {
   "codemirror_mode": {
    "name": "ipython",
    "version": 3
   },
   "file_extension": ".py",
   "mimetype": "text/x-python",
   "name": "python",
   "nbconvert_exporter": "python",
   "pygments_lexer": "ipython3",
   "version": "3.10.0"
  },
  "orig_nbformat": 4,
  "vscode": {
   "interpreter": {
    "hash": "0247af2ad54b89941d5bbc349ce0bb468cceffd3de09303ac244a9d0972ce8b5"
   }
  }
 },
 "nbformat": 4,
 "nbformat_minor": 2
}
