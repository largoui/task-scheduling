{
 "cells": [
  {
   "cell_type": "code",
   "execution_count": 5,
   "metadata": {},
   "outputs": [],
   "source": [
    "import graphviz\n",
    "from datetime import datetime\n",
    "import json\n",
    "import numpy as np\n",
    "import time"
   ]
  },
  {
   "cell_type": "code",
   "execution_count": 6,
   "metadata": {},
   "outputs": [
    {
     "name": "stdout",
     "output_type": "stream",
     "text": [
      "./graphs/smallRandom.json\n"
     ]
    }
   ],
   "source": [
    "names = ['smallRandom','xsmallComplex','smallComplex','mediumRandom','MediumComplex','largeComplex','xlargeComplex','xxlargeComplex']\n",
    "def create_path(names):\n",
    "    paths = []\n",
    "    for name in names : \n",
    "        path = './graphs/{}.json'.format(name)\n",
    "        paths.append(path)\n",
    "    return paths\n",
    "paths = create_path(names)\n",
    "print(paths[0])"
   ]
  },
  {
   "cell_type": "code",
   "execution_count": 7,
   "metadata": {},
   "outputs": [
    {
     "name": "stdout",
     "output_type": "stream",
     "text": [
      "['./graphs/smallRandom.json', './graphs/xsmallComplex.json', './graphs/smallComplex.json', './graphs/mediumRandom.json', './graphs/MediumComplex.json', './graphs/largeComplex.json', './graphs/xlargeComplex.json', './graphs/xxlargeComplex.json']\n"
     ]
    }
   ],
   "source": [
    "print(paths)\n",
    "file_num = 0"
   ]
  },
  {
   "cell_type": "code",
   "execution_count": 8,
   "metadata": {},
   "outputs": [],
   "source": [
    "with open(paths[file_num], 'r') as f:\n",
    "    data = json.load(f)\n",
    "\n",
    "nodes_save = data['nodes']\n"
   ]
  },
  {
   "cell_type": "code",
   "execution_count": 9,
   "metadata": {},
   "outputs": [],
   "source": [
    "nodes = nodes_save.copy()"
   ]
  },
  {
   "cell_type": "code",
   "execution_count": 10,
   "metadata": {},
   "outputs": [],
   "source": [
    "def create_successors():\n",
    "    ready_to_start = {}\n",
    "    for node in nodes :\n",
    "        nodes[node]['Successors'] = []\n",
    "        depend = nodes[node]['Dependencies']\n",
    "        if len(depend)>0:\n",
    "            for i in depend :\n",
    "                if 'Successors' not in nodes[str(i)] :\n",
    "                    nodes[str(i)]['Successors']=[node]\n",
    "                else :\n",
    "                    nodes[str(i)]['Successors'].append(node)\n",
    "        else :\n",
    "            ready_to_start[node]=0\n",
    "            # print(node)\n",
    "    return ready_to_start"
   ]
  },
  {
   "cell_type": "code",
   "execution_count": 11,
   "metadata": {},
   "outputs": [],
   "source": [
    "# create_successors()\n",
    "# nodes"
   ]
  },
  {
   "cell_type": "code",
   "execution_count": 12,
   "metadata": {},
   "outputs": [],
   "source": [
    "def weight(node):\n",
    "    pt = node['Data'].split(':')\n",
    "    time_s = float(pt[0])*3600 + float(pt[1])*60 + float(pt[2])\n",
    "    return time_s"
   ]
  },
  {
   "cell_type": "code",
   "execution_count": 13,
   "metadata": {},
   "outputs": [],
   "source": [
    "def add_ranks1():\n",
    "    for node in nodes:\n",
    "        nodes[node]['Weight'] = weight(nodes[node])\n",
    "        nodes[node]['rank'] = 0\n",
    "        nodes[node]['rank_calculated'] = False\n",
    "        nodes[node]['finished'] = -1\n",
    "def add_ranks2():\n",
    "    for node in nodes:\n",
    "        nodes[node]['Weight'] = weight(nodes[node])\n",
    "        nodes[node]['finished'] = False\n",
    "\n",
    "# for node in nodes.values() :\n",
    "#     print(node['rank'])\n",
    "#     print(node['rank_calculated'])"
   ]
  },
  {
   "cell_type": "code",
   "execution_count": 14,
   "metadata": {},
   "outputs": [],
   "source": [
    "def rec_calc_rank1(nodes, node):\n",
    "    succ = nodes[node]['Successors']\n",
    "    if len(succ) == 0 or 'rank' in nodes[node]:\n",
    "        nodes[node]['rank'] = nodes[node]['Weight']\n",
    "        return nodes[node]['Weight']\n",
    "    else:\n",
    "        m = 0\n",
    "        for i in succ:\n",
    "            u = rec_calc_rank1(nodes, i)\n",
    "            if m < u :\n",
    "                m = u\n",
    "        nodes[node]['rank'] = nodes[node]['Weight'] + m\n",
    "        return nodes[node]['rank']\n",
    "\n"
   ]
  },
  {
   "cell_type": "code",
   "execution_count": 15,
   "metadata": {},
   "outputs": [],
   "source": [
    "def rec_calc_rank2(nodes, traversal):\n",
    "    traversal_copy = traversal.copy()\n",
    "    node = traversal_copy[-1]\n",
    "    succ = nodes[node]['Successors']\n",
    "    if len(succ) == 0 :\n",
    "        nodes[node]['rank'] = nodes[node]['Weight']\n",
    "        traversal_copy.pop()\n",
    "        return traversal_copy\n",
    "    m = 0\n",
    "    for i in succ :\n",
    "        if 'rank' in nodes[i] :\n",
    "            u = nodes[i]['rank']\n",
    "            if m < u :\n",
    "                m = u\n",
    "        else :\n",
    "            traversal_copy.append(i)\n",
    "            return traversal_copy\n",
    "    nodes[node]['rank'] = nodes[node]['Weight'] + m\n",
    "    traversal_copy.pop()\n",
    "    return traversal_copy\n",
    "\n"
   ]
  },
  {
   "cell_type": "code",
   "execution_count": 16,
   "metadata": {},
   "outputs": [],
   "source": [
    "def calculate_rank(node):\n",
    "    if not nodes[node]['rank_calculated']:\n",
    "        succ = nodes[node]['Successors']     \n",
    "        rank = nodes[node]['Weight']\n",
    "        if len(succ) > 0:\n",
    "            for i in succ:\n",
    "                if not nodes[str(i)]['rank_calculated']:\n",
    "                    # print(\"couldn't calculate rank\")\n",
    "                    return 1  \n",
    "            weights = [nodes[str(i)]['rank'] for i in succ]\n",
    "            # print('node weight:',rank)\n",
    "            # print('successors:',succ)\n",
    "            # print('succ weights:',weights)\n",
    "            max_weights = max(weights)\n",
    "            # print('max:',max_weights)\n",
    "            rank += max_weights\n",
    "        nodes[node]['rank'] = rank\n",
    "        # print('calculated rank:', rank)\n",
    "        nodes[node]['rank_calculated'] = True\n",
    "    return 0"
   ]
  },
  {
   "cell_type": "code",
   "execution_count": 17,
   "metadata": {},
   "outputs": [],
   "source": [
    "def graph_update():\n",
    "    count = 0\n",
    "    for node in reversed(nodes.keys()):\n",
    "        # print('node:',node)\n",
    "        count += calculate_rank(node)\n",
    "    # print('not calculated ranks:',count)    \n",
    "    return count"
   ]
  },
  {
   "cell_type": "code",
   "execution_count": 18,
   "metadata": {},
   "outputs": [],
   "source": [
    "def calculate_ranks():\n",
    "    epoch = 1\n",
    "    count = 1\n",
    "    while count > 0:\n",
    "        # print('epoch:',epoch)\n",
    "        count = graph_update()\n",
    "        epoch+=1\n",
    "    # print('rank calculation done')"
   ]
  },
  {
   "cell_type": "code",
   "execution_count": 19,
   "metadata": {},
   "outputs": [],
   "source": [
    "def make_priority_list():\n",
    "    node_list = []\n",
    "    rank_list = []\n",
    "    for node in nodes:\n",
    "        node_list.append(node)\n",
    "        rank_list.append(nodes[node]['rank'])\n",
    "\n",
    "    # print(node_list)\n",
    "    # print(rank_list)\n",
    "    # indexes = np.flip(np.argsort(rank_list))\n",
    "    # sorted_nodes = [node_list[i] for i in indexes]\n",
    "    sorted_nodes = [x for _,x in sorted(zip(rank_list,node_list), reverse=True)]\n",
    "    return sorted_nodes"
   ]
  },
  {
   "cell_type": "code",
   "execution_count": 20,
   "metadata": {},
   "outputs": [],
   "source": [
    "def process_graph1():\n",
    "    ready_to_start = create_successors()\n",
    "    add_ranks1()\n",
    "    calculate_ranks()\n",
    "    priority_list = make_priority_list()\n",
    "    return ready_to_start, priority_list\n",
    "\n",
    "def process_graph2():\n",
    "    ready_to_start = create_successors()\n",
    "    add_ranks2()\n",
    "    traversal = [node for node in ready_to_start]\n",
    "    while len(traversal)>0 :\n",
    "        traversal = rec_calc_rank2(nodes, traversal)\n",
    "    priority_list = make_priority_list()\n",
    "    return ready_to_start, priority_list"
   ]
  },
  {
   "cell_type": "code",
   "execution_count": 21,
   "metadata": {},
   "outputs": [
    {
     "name": "stdout",
     "output_type": "stream",
     "text": [
      "duration: 0.0\n"
     ]
    }
   ],
   "source": [
    "nodes = nodes_save.copy()\n",
    "start_time = time.time()\n",
    "ready_to_start, priority_list = process_graph2()\n",
    "duration = time.time() - start_time\n",
    "# print(priority_list)\n",
    "# print(len(nodes))\n",
    "# print(len(priority_list))\n",
    "print('duration:', duration)\n"
   ]
  },
  {
   "cell_type": "code",
   "execution_count": 22,
   "metadata": {},
   "outputs": [
    {
     "name": "stdout",
     "output_type": "stream",
     "text": [
      "{'1': 0}\n",
      "['1', '2', '5', '4', '7', '8', '9', '6', '10', '3']\n"
     ]
    }
   ],
   "source": [
    "print(ready_to_start)\n",
    "print(priority_list)"
   ]
  },
  {
   "cell_type": "code",
   "execution_count": 23,
   "metadata": {},
   "outputs": [],
   "source": [
    "# times = []\n",
    "# priority_lists=[]\n",
    "# for path in paths :\n",
    "#     print('proccessing graph:', path)   \n",
    "#     with open(path, 'r') as f:\n",
    "#         data = json.load(f)\n",
    "#     nodes = data['nodes']\n",
    "#     start_time = time.time()\n",
    "#     priority_list = process_graph()\n",
    "#     end_time = time.time()\n",
    "#     print('duration :', end_time - start_time)\n",
    "#     priority_lists.append(priority_list)\n",
    "#     core_times = calculate_execution_time(priority_list,2)\n",
    "#     execution_time = min(core_times)\n",
    "#     print(execution_time)\n",
    "#     times.append(execution_time)\n",
    "#     del(nodes)\n",
    "\n",
    "# print(times)\n",
    "\n",
    "    "
   ]
  },
  {
   "cell_type": "code",
   "execution_count": 24,
   "metadata": {},
   "outputs": [],
   "source": [
    "priority_list_save = priority_list.copy()\n",
    "ready_to_start_save = ready_to_start.copy()"
   ]
  },
  {
   "cell_type": "code",
   "execution_count": 25,
   "metadata": {},
   "outputs": [],
   "source": [
    "# import matplotlib.pyplot as plt\n",
    "# plt.figure()\n",
    "# plt.title('evolution of graph execution time')\n",
    "# plt.plot(times)\n"
   ]
  },
  {
   "cell_type": "code",
   "execution_count": 26,
   "metadata": {},
   "outputs": [
    {
     "name": "stdout",
     "output_type": "stream",
     "text": [
      "{0: [], 1: []}\n"
     ]
    }
   ],
   "source": [
    "def make_empty_schedule(n_cores):\n",
    "    schedule = {i:[] for i in range(n_cores)}\n",
    "    return schedule\n",
    "\n",
    "def reinitialise_finished():\n",
    "    for node in nodes :\n",
    "        nodes[node]['finished'] = -1\n",
    "n_cores = 2\n",
    "schedule = make_empty_schedule(n_cores)\n",
    "proc_end_times={core:0 for core in range(n_cores)}\n",
    "print(schedule)"
   ]
  },
  {
   "cell_type": "code",
   "execution_count": 27,
   "metadata": {},
   "outputs": [],
   "source": [
    "\n",
    "def get_end_times(schedule):\n",
    "    end_times = {}\n",
    "    cores_that_did_smth = []\n",
    "    for core in schedule : \n",
    "        if len(schedule[core])==0 :\n",
    "            end_times[core] = 0\n",
    "        else :\n",
    "            end_times[core] = schedule[core][-1]['end']\n",
    "            cores_that_did_smth.append(core)\n",
    "\n",
    "    return end_times\n",
    "\n",
    "def update_ready_to_start(finished_task, task_end_time):\n",
    "    # ready_to_start_copy = ready_to_start.copy()\n",
    "    nodes[finished_task]['finished'] = task_end_time\n",
    "    succ = nodes[finished_task]['Successors']\n",
    "    if len(succ)>0:\n",
    "        for node in succ:\n",
    "            dep_done = [nodes[str(dep)]['finished']!=-1 for dep in nodes[node]['Dependencies']]\n",
    "            if not (False in dep_done) :\n",
    "                dep_end_times = [nodes[str(dep)]['finished'] for dep in nodes[node]['Dependencies']]\n",
    "                ready_to_start[node] = max(dep_end_times)\n",
    "\n",
    "def gef_first_core_ready(end_times):\n",
    "    end_times_copy = end_times.copy()\n",
    "    ind = min(end_times_copy, key=end_times.get)\n",
    "    task_end_time = end_times_copy.pop(ind)\n",
    "    # if len(cores_that_did_smth)>0 :\n",
    "    #     if ind in cores_that_did_smth : \n",
    "    #         finished_task = schedule[ind][-1]['task']\n",
    "    #         print('finished task :', finished_task)\n",
    "    #         update_ready_to_start(finished_task, task_end_time)\n",
    "    #         print('ready to start', ready_to_start)\n",
    "    # else :\n",
    "    #     print('no tasks done')\n",
    "    return ind, task_end_time, end_times_copy\n",
    "\n",
    "def get_next_task():\n",
    "    task = priority_list[0]\n",
    "    return task\n",
    "\n",
    "def try_assign_process(task, core, available_time_start, available_time_end):\n",
    "    # print(nodes[task]['finished'])\n",
    "    if len(ready_to_start)>0 and (nodes[task]['finished']==-1):\n",
    "        if task in ready_to_start :\n",
    "            if available_time_end == -1 or ready_to_start[task] < available_time_end :\n",
    "                start_time = max(available_time_start, ready_to_start[task])\n",
    "                end_time = start_time + nodes[task]['Weight']\n",
    "                schedule[core].append({'task':task, 'start':start_time, 'end':end_time})\n",
    "                nodes[task]['done'] = True\n",
    "                # print('assigning task',task)\n",
    "                update_ready_to_start(task, end_time)\n",
    "                ready_to_start.pop(task)\n",
    "                if len(priority_list)>0 :     \n",
    "                    for i in range(len(priority_list)):\n",
    "                        if task == priority_list[i] : \n",
    "                            priority_list.pop(i)\n",
    "                            return True\n",
    "                return True \n",
    "        else :\n",
    "            print('task {} not in ready to start'.format(task))\n",
    "    else :\n",
    "        print('ready_to_start is empty')   \n",
    "    return False\n",
    "\n",
    "def update_dead_time(dead_time_list, done, time_stamp, ind):\n",
    "    dead_time_copy = dead_time_list.copy()\n",
    "    if done :\n",
    "        if len(dead_time_copy)>0 :\n",
    "            for dead_time in dead_time_copy :\n",
    "                core_id = dead_time['core']\n",
    "                max_times = max(time_stamp,proc_end_times[core_id])\n",
    "                dead_time['end'] = max_times\n",
    "                proc_end_times[core_id] = max_times\n",
    "    else :\n",
    "        dead_time_copy.append({'core':ind, 'start':time_stamp, 'end':0})\n",
    "    # for core in dead_time_copy :\n",
    "    #     dead_time_copy[core]['duration'] = dead_time_copy[core]['end'] - dead_time_copy[core]['start']\n",
    "    return dead_time_copy\n",
    "\n",
    "def fill_schedule():\n",
    "    dead_time_list = []\n",
    "    end_times = get_end_times(schedule)\n",
    "    # print('end_times:', end_times)\n",
    "    done = False\n",
    "    # print('prio',priority_list)\n",
    "    task = get_next_task()\n",
    "    # print('next task in prio')\n",
    "    while not done :\n",
    "        ind, time_stamp, end_times = gef_first_core_ready(end_times)\n",
    "        # print('available core :', ind)\n",
    "        # print('available at', time_stamp)\n",
    "        # print('end times:', end_times)\n",
    "        # print('ready_to_start', ready_to_start)\n",
    "        # print(ind, time_stamp)\n",
    "        if len(end_times)==0 :\n",
    "            done = try_assign_process(task, ind, time_stamp, -1)\n",
    "        else :\n",
    "            next_end_time = max(end_times.values())\n",
    "            if next_end_time == time_stamp :\n",
    "                done = try_assign_process(task, ind, time_stamp, -1)\n",
    "            else :\n",
    "                done = try_assign_process(task, ind, time_stamp, next_end_time)\n",
    "\n",
    "        # print('done?', done)\n",
    "        dead_time_list = update_dead_time(dead_time_list, done, time_stamp, ind)\n",
    "    return dead_time_list\n",
    "\n",
    "def find_dead_time(dead_time_list) :\n",
    "    max_val = -1\n",
    "    max_ind = -1\n",
    "    for i in range(len(dead_time_list)):\n",
    "        new_val = dead_time_list[i]['start']\n",
    "        if new_val>max_val :\n",
    "            max_val = new_val\n",
    "            max_ind = i\n",
    "    # idle_intervals = []\n",
    "    # for interval in dead_time_copy :\n",
    "    #     idle_intervals.append(interval['start'])\n",
    "    # i = np.argmax(idle_intervals)\n",
    "    return max_ind\n",
    "\n",
    "\n",
    "def fill_dead_time(dead_time_list):\n",
    "    dead_time_copy = dead_time_list.copy()\n",
    "    \n",
    "    while len(dead_time_copy) > 0 :\n",
    "        # print('dead time:',dead_time_copy)\n",
    "        i = find_dead_time(dead_time_copy)\n",
    "        dead_time_end = dead_time_copy[i]['end']\n",
    "        dead_time_start = dead_time_copy[i]['start']\n",
    "        idle_core = dead_time_copy[i]['core']\n",
    "        possible_tasks = {}\n",
    "\n",
    "        for task in ready_to_start :\n",
    "            task_available_start = ready_to_start[task]\n",
    "            start_time = max(dead_time_start,task_available_start)\n",
    "            if task_available_start<=dead_time_end and nodes[task]['Weight']<= dead_time_end - start_time :\n",
    "                possible_tasks[task]=nodes[task]['rank']\n",
    "        \n",
    "        if len(possible_tasks)>0 :\n",
    "            # print('possible tasks to fill dead time', possible_tasks)\n",
    "            \n",
    "            task_to_do = max(possible_tasks, key=possible_tasks.get)\n",
    "            # print(task_to_do)\n",
    "            task_start_time = ready_to_start[task_to_do]\n",
    "            # print('task start time',task_start_time)\n",
    "            start_time = max(dead_time_start,task_start_time)\n",
    "            task_end_time = start_time + weight(nodes[task])\n",
    "            done = try_assign_process(task_to_do, idle_core, start_time, dead_time_end)\n",
    "            if not done :\n",
    "                print('could\\'nt assign the task {} to dead time'.format(task_to_do))\n",
    "\n",
    "\n",
    "            if dead_time_start<task_start_time :\n",
    "                new_element = {'core':idle_core, 'start':dead_time_start, 'end':task_start_time}\n",
    "                dead_time_copy.append({'core':idle_core, 'start':dead_time_start, 'end':task_start_time})\n",
    "                # print('new before', new_element)\n",
    "            if task_end_time<dead_time_end :\n",
    "                new_element = {'core':idle_core, 'start':task_end_time, 'end':dead_time_end}\n",
    "                dead_time_copy.append(new_element)\n",
    "                # print('new after')\n",
    "        # print(i, dead_time_copy)\n",
    "        dead_time_copy.pop(i)\n",
    "        # print('did pop?', dead_time_copy)\n",
    "   \n",
    "\n",
    "    \n"
   ]
  },
  {
   "cell_type": "code",
   "execution_count": 28,
   "metadata": {},
   "outputs": [
    {
     "name": "stdout",
     "output_type": "stream",
     "text": [
      "{0: 0, 1: 0}\n"
     ]
    }
   ],
   "source": [
    "end_times = get_end_times(schedule)\n",
    "print(end_times)\n"
   ]
  },
  {
   "cell_type": "code",
   "execution_count": 29,
   "metadata": {},
   "outputs": [
    {
     "name": "stdout",
     "output_type": "stream",
     "text": [
      "no task ready to start, verifying all tasks are done\n"
     ]
    }
   ],
   "source": [
    "n_cores = 2\n",
    "schedule = make_empty_schedule(n_cores)\n",
    "reinitialise_finished()\n",
    "proc_end_times={core:0 for core in range(n_cores)}\n",
    "priority_list = priority_list_save.copy()\n",
    "ready_to_start = ready_to_start_save.copy()\n",
    "all_done = False\n",
    "while not all_done :\n",
    "    # print('ready_to_start', ready_to_start)\n",
    "    all_done = True\n",
    "    dead_time_list = fill_schedule()\n",
    "    # print('dead_time', dead_time_list)\n",
    "    fill_dead_time(dead_time_list)\n",
    "    if len(ready_to_start)>0 :\n",
    "        all_done = False\n",
    "    else : \n",
    "        print('no task ready to start, verifying all tasks are done')  \n",
    "        if len(priority_list)>0: \n",
    "            for node in nodes :\n",
    "                if nodes[node]['finished']==False :\n",
    "                    # print('task not finished :', node)\n",
    "                    all_done = False\n",
    "    # print(schedule)\n",
    "\n",
    "    \n"
   ]
  },
  {
   "cell_type": "code",
   "execution_count": 30,
   "metadata": {},
   "outputs": [],
   "source": [
    "def get_score_1(schedule):\n",
    "    score = 0\n",
    "    for core_list in schedule.values() :\n",
    "        if len(core_list)>0 :\n",
    "            new_score = core_list[-1]['end']\n",
    "            if new_score>score :\n",
    "                score = new_score\n",
    "    return score\n",
    "\n",
    "def get_score_2(schedule):\n",
    "    score = 0\n",
    "    for core_list in schedule.values() :\n",
    "        for task in core_list :\n",
    "            new_score = task['end']\n",
    "            if new_score>score :\n",
    "                score = new_score\n",
    "    return score\n"
   ]
  },
  {
   "cell_type": "code",
   "execution_count": 31,
   "metadata": {},
   "outputs": [
    {
     "data": {
      "text/plain": [
       "21766.783808300002"
      ]
     },
     "execution_count": 31,
     "metadata": {},
     "output_type": "execute_result"
    }
   ],
   "source": [
    "get_score_1(schedule)\n"
   ]
  },
  {
   "cell_type": "code",
   "execution_count": 32,
   "metadata": {},
   "outputs": [],
   "source": [
    "import pandas as pd\n",
    "\n",
    "def trasnform_schedule_to_pd(schedule):\n",
    "    table = []\n",
    "    for core_id in schedule :\n",
    "        for task in schedule[core_id] :\n",
    "            rank_val = nodes[task['task']]['rank']\n",
    "            val = dict(Task = task['task'], Core = core_id, Start = task['start'], End = task['end'], Rank = rank_val)\n",
    "            table.append(val)\n",
    "    return pd.DataFrame(table)        \n"
   ]
  },
  {
   "cell_type": "code",
   "execution_count": 33,
   "metadata": {},
   "outputs": [
    {
     "name": "stdout",
     "output_type": "stream",
     "text": [
      "  Task  Core         Start           End          Rank\n",
      "0    1     0      0.000000   2843.655235  18045.347103\n",
      "1    2     0   2843.655235   6499.726486  15201.691868\n",
      "2    5     0   6499.726486  11565.517510  11545.620617\n",
      "3    8     0  11565.517510  15161.707746   6479.829593\n",
      "4    6     0  15161.707746  20277.715563   5116.007817\n",
      "5    3     1   2843.655235   5585.637473   2741.982238\n",
      "6    4     1   5585.637473   9751.861806   9282.232150\n",
      "7    7     1   9751.861806  13630.564917   9131.282645\n",
      "8    9     1  13630.564917  18883.144451   5252.579534\n",
      "9   10     1  18883.144451  21766.783808   2883.639357\n"
     ]
    }
   ],
   "source": [
    "from pathlib import Path  \n",
    "pd_schedule = trasnform_schedule_to_pd(schedule)\n",
    "print(pd_schedule)\n",
    "path_name = 'schedules/{}_{}cores.csv'.format(names[file_num],n_cores)\n",
    "filepath = Path(path_name)  \n",
    "filepath.parent.mkdir(parents=True, exist_ok=True)  \n",
    "pd_schedule.to_csv(filepath)  \n"
   ]
  }
 ],
 "metadata": {
  "kernelspec": {
   "display_name": "Python 3",
   "language": "python",
   "name": "python3"
  },
  "language_info": {
   "codemirror_mode": {
    "name": "ipython",
    "version": 3
   },
   "file_extension": ".py",
   "mimetype": "text/x-python",
   "name": "python",
   "nbconvert_exporter": "python",
   "pygments_lexer": "ipython3",
   "version": "3.10.0"
  },
  "orig_nbformat": 4,
  "vscode": {
   "interpreter": {
    "hash": "0247af2ad54b89941d5bbc349ce0bb468cceffd3de09303ac244a9d0972ce8b5"
   }
  }
 },
 "nbformat": 4,
 "nbformat_minor": 2
}
