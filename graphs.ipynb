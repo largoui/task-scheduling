{
 "cells": [
  {
   "cell_type": "code",
   "execution_count": 423,
   "metadata": {},
   "outputs": [],
   "source": [
    "import graphviz\n",
    "from datetime import datetime\n",
    "import json\n",
    "import numpy as np\n",
    "import time"
   ]
  },
  {
   "cell_type": "code",
   "execution_count": 424,
   "metadata": {},
   "outputs": [
    {
     "name": "stdout",
     "output_type": "stream",
     "text": [
      "./graphs/smallRandom.json\n"
     ]
    }
   ],
   "source": [
    "names = ['smallRandom','xsmallComplex','smallComplex','mediumRandom','MediumComplex','largeComplex','xlargeComplex','xxlargeComplex']\n",
    "def create_path(names):\n",
    "    paths = []\n",
    "    for name in names : \n",
    "        path = './graphs/{}.json'.format(name)\n",
    "        paths.append(path)\n",
    "    return paths\n",
    "paths = create_path(names)\n",
    "print(paths[0])"
   ]
  },
  {
   "cell_type": "code",
   "execution_count": 425,
   "metadata": {},
   "outputs": [
    {
     "name": "stdout",
     "output_type": "stream",
     "text": [
      "['./graphs/smallRandom.json', './graphs/xsmallComplex.json', './graphs/smallComplex.json', './graphs/mediumRandom.json', './graphs/MediumComplex.json', './graphs/largeComplex.json', './graphs/xlargeComplex.json', './graphs/xxlargeComplex.json']\n"
     ]
    }
   ],
   "source": [
    "print(paths)\n",
    "file_num = 1"
   ]
  },
  {
   "cell_type": "code",
   "execution_count": 426,
   "metadata": {},
   "outputs": [],
   "source": [
    "with open(paths[file_num], 'r') as f:\n",
    "    data = json.load(f)\n",
    "\n",
    "nodes_save = data['nodes']\n"
   ]
  },
  {
   "cell_type": "code",
   "execution_count": 427,
   "metadata": {},
   "outputs": [],
   "source": [
    "nodes = nodes_save.copy()"
   ]
  },
  {
   "cell_type": "code",
   "execution_count": 428,
   "metadata": {},
   "outputs": [],
   "source": [
    "def create_successors():\n",
    "    ready_to_start = {}\n",
    "    for node in nodes :\n",
    "        nodes[node]['Successors'] = []\n",
    "    for node in nodes :\n",
    "        depend = nodes[node]['Dependencies']\n",
    "        if len(depend)>0:\n",
    "            for i in depend :\n",
    "                nodes[str(i)]['Successors'].append(node)\n",
    "        else :\n",
    "            ready_to_start[node]=0\n",
    "            # print(node)\n",
    "    return ready_to_start"
   ]
  },
  {
   "cell_type": "code",
   "execution_count": 429,
   "metadata": {},
   "outputs": [],
   "source": [
    "# create_successors()\n",
    "# nodes"
   ]
  },
  {
   "cell_type": "code",
   "execution_count": 430,
   "metadata": {},
   "outputs": [],
   "source": [
    "def weight(node):\n",
    "    pt = node['Data'].split(':')\n",
    "    time_s = float(pt[0])*3600 + float(pt[1])*60 + float(pt[2])\n",
    "    return time_s"
   ]
  },
  {
   "cell_type": "code",
   "execution_count": 431,
   "metadata": {},
   "outputs": [],
   "source": [
    "def add_ranks1():\n",
    "    for node in nodes:\n",
    "        nodes[node]['Weight'] = weight(nodes[node])\n",
    "        nodes[node]['rank'] = 0\n",
    "        nodes[node]['rank_calculated'] = False\n",
    "        nodes[node]['finished'] = -1\n",
    "def add_ranks2():\n",
    "    for node in nodes:\n",
    "        nodes[node]['Weight'] = weight(nodes[node])\n",
    "        nodes[node]['finished'] = False\n",
    "\n",
    "# for node in nodes.values() :\n",
    "#     print(node['rank'])\n",
    "#     print(node['rank_calculated'])"
   ]
  },
  {
   "cell_type": "code",
   "execution_count": 432,
   "metadata": {},
   "outputs": [],
   "source": [
    "def rec_calc_rank1(nodes, node):\n",
    "    succ = nodes[node]['Successors']\n",
    "    if len(succ) == 0 or 'rank' in nodes[node]:\n",
    "        nodes[node]['rank'] = nodes[node]['Weight']\n",
    "        return nodes[node]['Weight']\n",
    "    else:\n",
    "        m = 0\n",
    "        for i in succ:\n",
    "            u = rec_calc_rank1(nodes, i)\n",
    "            if m < u :\n",
    "                m = u\n",
    "        nodes[node]['rank'] = nodes[node]['Weight'] + m\n",
    "        return nodes[node]['rank']\n",
    "\n"
   ]
  },
  {
   "cell_type": "code",
   "execution_count": 433,
   "metadata": {},
   "outputs": [],
   "source": [
    "def rec_calc_rank2(nodes, traversal):\n",
    "    stop = False\n",
    "    traversal_copy = traversal.copy()\n",
    "    node = traversal_copy[-1]\n",
    "\n",
    "    succ = nodes[node]['Successors']\n",
    "    if len(succ) == 0 :\n",
    "        nodes[node]['rank'] = nodes[node]['Weight']\n",
    "        traversal_copy.pop()\n",
    "        return traversal_copy\n",
    "    m = 0\n",
    "    for i in succ :\n",
    "        if 'rank' in nodes[i] :\n",
    "            u = nodes[i]['rank']\n",
    "            if m < u :\n",
    "                m = u\n",
    "        else :\n",
    "            traversal_copy.append(i)\n",
    "            stop = True\n",
    "    if not stop :\n",
    "        nodes[node]['rank'] = nodes[node]['Weight'] + m\n",
    "        traversal_copy.pop()\n",
    "    return traversal_copy\n",
    "\n"
   ]
  },
  {
   "cell_type": "code",
   "execution_count": 434,
   "metadata": {},
   "outputs": [],
   "source": [
    "def calculate_rank(node):\n",
    "    if not nodes[node]['rank_calculated']:\n",
    "        succ = nodes[node]['Successors']     \n",
    "        rank = nodes[node]['Weight']\n",
    "        if len(succ) > 0:\n",
    "            for i in succ:\n",
    "                if not nodes[str(i)]['rank_calculated']:\n",
    "                    # print(\"couldn't calculate rank\")\n",
    "                    return 1  \n",
    "            weights = [nodes[str(i)]['rank'] for i in succ]\n",
    "            # print('node weight:',rank)\n",
    "            # print('successors:',succ)\n",
    "            # print('succ weights:',weights)\n",
    "            max_weights = max(weights)\n",
    "            # print('max:',max_weights)\n",
    "            rank += max_weights\n",
    "        nodes[node]['rank'] = rank\n",
    "        # print('calculated rank:', rank)\n",
    "        nodes[node]['rank_calculated'] = True\n",
    "    return 0"
   ]
  },
  {
   "cell_type": "code",
   "execution_count": 435,
   "metadata": {},
   "outputs": [],
   "source": [
    "def graph_update():\n",
    "    count = 0\n",
    "    for node in reversed(nodes.keys()):\n",
    "        # print('node:',node)\n",
    "        count += calculate_rank(node)\n",
    "    # print('not calculated ranks:',count)    \n",
    "    return count"
   ]
  },
  {
   "cell_type": "code",
   "execution_count": 436,
   "metadata": {},
   "outputs": [],
   "source": [
    "def calculate_ranks():\n",
    "    epoch = 1\n",
    "    count = 1\n",
    "    while count > 0:\n",
    "        # print('epoch:',epoch)\n",
    "        count = graph_update()\n",
    "        epoch+=1\n",
    "    # print('rank calculation done')"
   ]
  },
  {
   "cell_type": "code",
   "execution_count": 437,
   "metadata": {},
   "outputs": [],
   "source": [
    "def make_priority_list():\n",
    "    node_list = []\n",
    "    rank_list = []\n",
    "    for node in nodes:\n",
    "        node_list.append(node)\n",
    "        rank_list.append(nodes[node]['rank'])\n",
    "\n",
    "    # print(node_list)\n",
    "    # print(rank_list)\n",
    "    # indexes = np.flip(np.argsort(rank_list))\n",
    "    # sorted_nodes = [node_list[i] for i in indexes]\n",
    "    sorted_nodes = [x for _,x in sorted(zip(rank_list,node_list), reverse=True)]\n",
    "    return sorted_nodes"
   ]
  },
  {
   "cell_type": "code",
   "execution_count": 438,
   "metadata": {},
   "outputs": [],
   "source": [
    "def process_graph1():\n",
    "    ready_to_start = create_successors()\n",
    "    add_ranks1()\n",
    "    calculate_ranks()\n",
    "    priority_list = make_priority_list()\n",
    "    return ready_to_start, priority_list\n",
    "\n",
    "def process_graph2():\n",
    "    ready_to_start = create_successors()\n",
    "    add_ranks2()\n",
    "    traversal = [node for node in ready_to_start]\n",
    "    while len(traversal)>0 :\n",
    "        # print(traversal)\n",
    "        traversal = rec_calc_rank2(nodes, traversal)\n",
    "    print(len(nodes))\n",
    "    count = 0\n",
    "    for node in nodes :\n",
    "        if 'rank' not in nodes[node]:\n",
    "            # print(node)\n",
    "            count +=1\n",
    "    print(count)\n",
    "    print(nodes['1535']['Successors'])\n",
    "    print(nodes['919']['rank'])\n",
    "    priority_list = make_priority_list()\n",
    "    return ready_to_start, priority_list"
   ]
  },
  {
   "cell_type": "code",
   "execution_count": 439,
   "metadata": {},
   "outputs": [
    {
     "name": "stdout",
     "output_type": "stream",
     "text": [
      "1181\n",
      "0\n",
      "['1531']\n",
      "1435770.9733583005\n",
      "duration: 0.019947052001953125\n"
     ]
    }
   ],
   "source": [
    "nodes = nodes_save.copy()\n",
    "start_time = time.time()\n",
    "ready_to_start, priority_list = process_graph2()\n",
    "duration = time.time() - start_time\n",
    "# print(priority_list)\n",
    "# print(len(nodes))\n",
    "# print(len(priority_list))\n",
    "print('duration:', duration)\n"
   ]
  },
  {
   "cell_type": "code",
   "execution_count": 440,
   "metadata": {},
   "outputs": [
    {
     "name": "stdout",
     "output_type": "stream",
     "text": [
      "{'919': 0}\n",
      "['919', '927', '930', '931', '933', '934', '915', '917', '918', '920', '928', '929', '932', '516', '517', '518', '519', '520', '525', '526', '527', '521', '522', '523', '524', '947', '949', '957', '960', '956', '958', '959', '961', '954', '955', '966', '969', '972', '878', '880', '883', '886', '892', '893', '885', '887', '889', '890', '891', '881', '882', '884', '888', '900', '291', '292', '293', '294', '295', '300', '301', '302', '296', '297', '298', '299', '1111', '1113', '1117', '1123', '1129', '1132', '1115', '1116', '1122', '1126', '1112', '1114', '1118', '1124', '1128', '1131', '1091', '1094', '1096', '1103', '1098', '1099', '1100', '1120', '544', '545', '580', '1127', '546', '581', '1092', '547', '1093', '1097', '548', '570', '582', '583', '552', '571', '553', '588', '589', '572', '590', '573', '591', '554', '577', '584', '555', '578', '579', '556', '585', '574', '586', '557', '575', '549', '576', '550', '551', '587', '1199', '1200', '1206', '1208', '1218', '1220', '1232', '1235', '1216', '1217', '1219', '717', '718', '719', '720', '721', '722', '727', '728', '729', '730', '723', '724', '725', '726', '680', '681', '682', '683', '688', '689', '690', '684', '685', '686', '687', '1300', '1302', '1328', '1329', '1249', '1251', '1254', '1248', '1250', '1253', '691', '692', '693', '700', '701', '702', '694', '695', '696', '697', '477', '698', '478', '699', '479', '703', '480', '704', '481', '1438', '482', '486', '1439', '487', '705', '1440', '488', '706', '483', '1441', '711', '712', '484', '1442', '485', '713', '714', '277', '1446', '1447', '1449', '715', '278', '716', '1443', '707', '1444', '708', '279', '709', '1445', '1448', '280', '286', '287', '710', '811', '1382', '812', '813', '1385', '288', '1391', '1398', '289', '814', '815', '1400', '816', '290', '1401', '820', '1402', '281', '1403', '821', '1386', '822', '282', '283', '817', '1388', '818', '284', '819', '285', '1393', '1394', '438', '1271', '1396', '1399', '439', '745', '1273', '440', '746', '1276', '747', '446', '1278', '447', '754', '1282', '1289', '755', '756', '1283', '448', '757', '441', '748', '1286', '749', '442', '1290', '1293', '750', '443', '751', '1296', '444', '1297', '752', '445', '1272', '753', '1274', '449', '773', '450', '1275', '774', '451', '1277', '775', '1223', '776', '452', '1224', '1225', '777', '453', '797', '781', '1226', '454', '798', '458', '1228', '782', '783', '459', '799', '784', '1231', '1234', '1237', '460', '800', '785', '1221', '461', '1222', '801', '778', '1236', '462', '808', '463', '809', '1238', '779', '1023', '1024', '455', '1239', '810', '802', '803', '780', '456', '1240', '1027', '457', '328', '804', '464', '329', '1025', '465', '758', '330', '466', '805', '472', '1026', '759', '1030', '760', '1031', '847', '761', '331', '848', '1032', '768', '806', '473', '769', '474', '332', '1033', '475', '807', '849', '1039', '338', '770', '339', '1469', '1471', '850', '476', '467', '340', '771', '1041', '851', '341', '1474', '772', '344', '468', '762', '763', '856', '345', '857', '1465', '342', '764', '469', '1467', '858', '470', '859', '346', '471', '343', '1470', '333', '765', '860', '766', '334', '1466', '347', '335', '238', '1468', '1472', '852', '853', '767', '854', '1473', '855', '351', '336', '1044', '239', '1475', '1279', '240', '823', '241', '352', '1047', '1051', '905', '337', '242', '1280', '963', '353', '964', '824', '907', '354', '355', '1054', '273', '825', '356', '1288', '965', '1055', '909', '274', '1298', '826', '348', '967', '906', '1056', '275', '349', '350', '1057', '1299', '830', '399', '1058', '400', '831', '970', '1281', '908', '276', '1285', '1059', '401', '832', '1291', '910', '977', '405', '833', '243', '911', '1294', '1052', '912', '1284', '406', '974', '1287', '407', '408', '834', '1053', '975', '244', '976', '901', '409', '402', '1292', '835', '1061', '245', '902', '968', '1295', '903', '827', '246', '403', '971', '1301', '828', '973', '1064', '247', '404', '1303', '904', '829', '1065', '1404', '1405', '1408', '1410', '1411', '1406', '1407', '1409', '1412', '1413', '1414', '1415', '1416', '654', '655', '656', '657', '658', '664', '665', '666', '659', '660', '661', '662', '663', '621', '622', '623', '627', '628', '629', '630', '631', '624', '625', '626', '1066', '1067', '1073', '1075', '1079', '1068', '1069', '1085', '1087', '1074', '1076', '1081', '1082', '1084', '1119', '1121', '1125', '1130', '1133', '1134', '1139', '1140', '1142', '1144', '1135', '1136', '1137', '1138', '643', '644', '645', '1379', '1380', '650', '651', '1387', '652', '653', '1392', '1368', '646', '1369', '1371', '647', '1374', '648', '1366', '649', '303', '1367', '304', '305', '1370', '306', '410', '731', '411', '412', '313', '732', '413', '1241', '414', '733', '420', '314', '315', '1242', '421', '307', '308', '739', '740', '1245', '741', '528', '742', '422', '529', '309', '1247', '530', '415', '743', '744', '1243', '310', '416', '417', '1244', '1246', '531', '532', '734', '311', '1261', '533', '735', '1262', '418', '419', '248', '312', '249', '1229', '1175', '1420', '1230', '539', '262', '736', '1233', '540', '1178', '1421', '263', '250', '1422', '1184', '264', '1141', '737', '541', '1143', '542', '265', '1423', '251', '1187', '738', '1424', '543', '1145', '534', '270', '1427', '1430', '252', '1181', '1028', '535', '1029', '1148', '256', '1151', '536', '271', '1183', '1431', '257', '636', '1042', '1432', '537', '1152', '637', '1252', '638', '1255', '1433', '538', '1035', '272', '1186', '639', '266', '258', '1256', '935', '1153', '1037', '1177', '1257', '259', '1434', '632', '1180', '936', '267', '605', '1154', '1185', '1425', '987', '1040', '938', '633', '260', '634', '1265', '1155', '383', '261', '1188', '489', '490', '635', '1043', '1322', '1268', '989', '606', '268', '384', '1426', '269', '491', '940', '1156', '253', '592', '607', '254', '941', '1190', '1323', '1428', '990', '1046', '640', '1078', '1269', '1429', '385', '1372', '1194', '255', '1050', '991', '593', '1270', '492', '1332', '943', '423', '984', '1146', '1373', '1080', '357', '608', '1324', '594', '371', '386', '641', '1203', '595', '493', '944', '992', '424', '1333', '1263', '372', '596', '358', '499', '425', '1004', '985', '387', '1013', '500', '642', '1083', '1334', '1147', '1375', '1014', '558', '609', '1022', '946', '1005', '426', '601', '1086', '667', '501', '559', '359', '1207', '1007', '986', '616', '1336', '511', '388', '1149', '1264', '668', '1377', '1008', '1266', '1150', '373', '1088', '427', '1335', '1009', '1347', '950', '1010', '617', '433', '502', '1351', '786', '316', '378', '1210', '602', '1011', '669', '1354', '560', '360', '395', '1267', '512', '1356', '988', '1019', '1338', '434', '836', '1453', '1381', '1454', '670', '1159', '603', '1337', '674', '618', '1348', '396', '837', '1376', '787', '435', '1160', '962', '838', '503', '1012', '379', '1357', '436', '317', '619', '675', '513', '1201', '1455', '366', '620', '1353', '1340', '380', '844', '1378', '561', '1358', '980', '994', '604', '1015', '318', '1202', '788', '567', '494', '1339', '981', '1349', '1342', '437', '367', '1161', '514', '937', '397', '1462', '845', '676', '1383', '319', '982', '610', '983', '1016', '568', '381', '1463', '398', '996', '382', '368', '1341', '1359', '789', '569', '1518', '597', '1205', '562', '1530', '1227', '677', '389', '369', '1464', '515', '1001', '846', '1510', '1506', '428', '495', '611', '1524', '1344', '323', '790', '1350', '1174', '1390', '939', '374', '612', '978', '429', '1360', '794', '979', '1488', '839', '1523', '496', '1077', '390', '1189', '1384', '1516', '1179', '598', '508', '1517', '1534', '678', '1017', '1515', '1529', '1330', '1528', '942', '1532', '1533', '1514', '1521', '1198', '1491', '1002', '1504', '370', '1476', '1527', '1456', '430', '1497', '324', '1522', '1526', '1535', '325', '509', '510', '563', '1204', '1502', '1501', '1389', '1355', '1457', '1512', '1511', '795', '375', '1182', '1508', '840', '796', '1482', '995', '326', '1089', '1018', '1520', '1395', '1485', '1331', '613', '1361', '945', '1090', '1362', '1509', '361', '1495', '391', '1020', '791', '1484', '841', '1519', '504', '679', '497', '1157', '1343', '599', '1479', '1486', '671', '1499', '327', '1481', '1531', '320', '1209', '1525', '1003', '1478', '431', '1513', '1503', '1505', '1490', '1352', '999', '1500', '362', '1211', '1498', '1489', '842', '1480', '792', '1095', '1487', '1483', '1494', '600', '564', '1507', '376', '505', '392', '1496', '1158', '506', '1458', '1021', '363', '1000', '1212', '565', '1477', '948', '614', '498', '1493', '393', '843', '1492', '615', '364', '1397', '1345', '321', '672', '365', '1006', '1363', '1346', '507', '1171', '322', '432', '1364', '1365', '566', '673', '377', '394', '793']\n"
     ]
    }
   ],
   "source": [
    "print(ready_to_start)\n",
    "print(priority_list)"
   ]
  },
  {
   "cell_type": "code",
   "execution_count": 441,
   "metadata": {},
   "outputs": [],
   "source": [
    "# times = []\n",
    "# priority_lists=[]\n",
    "# for path in paths :\n",
    "#     print('proccessing graph:', path)   \n",
    "#     with open(path, 'r') as f:\n",
    "#         data = json.load(f)\n",
    "#     nodes = data['nodes']\n",
    "#     start_time = time.time()\n",
    "#     priority_list = process_graph()\n",
    "#     end_time = time.time()\n",
    "#     print('duration :', end_time - start_time)\n",
    "#     priority_lists.append(priority_list)\n",
    "#     core_times = calculate_execution_time(priority_list,2)\n",
    "#     execution_time = min(core_times)\n",
    "#     print(execution_time)\n",
    "#     times.append(execution_time)\n",
    "#     del(nodes)\n",
    "\n",
    "# print(times)\n",
    "\n",
    "    "
   ]
  },
  {
   "cell_type": "code",
   "execution_count": 442,
   "metadata": {},
   "outputs": [],
   "source": [
    "priority_list_save = priority_list.copy()\n",
    "ready_to_start_save = ready_to_start.copy()"
   ]
  },
  {
   "cell_type": "code",
   "execution_count": 443,
   "metadata": {},
   "outputs": [],
   "source": [
    "# import matplotlib.pyplot as plt\n",
    "# plt.figure()\n",
    "# plt.title('evolution of graph execution time')\n",
    "# plt.plot(times)\n"
   ]
  },
  {
   "cell_type": "code",
   "execution_count": 444,
   "metadata": {},
   "outputs": [
    {
     "name": "stdout",
     "output_type": "stream",
     "text": [
      "{0: [], 1: []}\n"
     ]
    }
   ],
   "source": [
    "def make_empty_schedule(n_cores):\n",
    "    schedule = {i:[] for i in range(n_cores)}\n",
    "    return schedule\n",
    "\n",
    "def reinitialise_finished():\n",
    "    for node in nodes :\n",
    "        nodes[node]['finished'] = -1\n",
    "n_cores = 2\n",
    "schedule = make_empty_schedule(n_cores)\n",
    "proc_end_times={core:0 for core in range(n_cores)}\n",
    "print(schedule)"
   ]
  },
  {
   "cell_type": "code",
   "execution_count": 445,
   "metadata": {},
   "outputs": [],
   "source": [
    "\n",
    "def get_end_times(schedule):\n",
    "    end_times = {}\n",
    "    cores_that_did_smth = []\n",
    "    for core in schedule : \n",
    "        if len(schedule[core])==0 :\n",
    "            end_times[core] = 0\n",
    "        else :\n",
    "            end_times[core] = schedule[core][-1]['end']\n",
    "            cores_that_did_smth.append(core)\n",
    "\n",
    "    return end_times\n",
    "\n",
    "def update_ready_to_start(finished_task, task_end_time):\n",
    "    # ready_to_start_copy = ready_to_start.copy()\n",
    "    nodes[finished_task]['finished'] = task_end_time\n",
    "    succ = nodes[finished_task]['Successors']\n",
    "    if len(succ)>0:\n",
    "        for node in succ:\n",
    "            dep_done = [nodes[str(dep)]['finished']!=-1 for dep in nodes[node]['Dependencies']]\n",
    "            if not (False in dep_done) :\n",
    "                dep_end_times = [nodes[str(dep)]['finished'] for dep in nodes[node]['Dependencies']]\n",
    "                ready_to_start[node] = max(dep_end_times)\n",
    "\n",
    "def gef_first_core_ready(end_times):\n",
    "    end_times_copy = end_times.copy()\n",
    "    ind = min(end_times_copy, key=end_times.get)\n",
    "    task_end_time = end_times_copy.pop(ind)\n",
    "    # if len(cores_that_did_smth)>0 :\n",
    "    #     if ind in cores_that_did_smth : \n",
    "    #         finished_task = schedule[ind][-1]['task']\n",
    "    #         print('finished task :', finished_task)\n",
    "    #         update_ready_to_start(finished_task, task_end_time)\n",
    "    #         print('ready to start', ready_to_start)\n",
    "    # else :\n",
    "    #     print('no tasks done')\n",
    "    return ind, task_end_time, end_times_copy\n",
    "\n",
    "def get_next_task():\n",
    "    task = priority_list[0]\n",
    "    return task\n",
    "\n",
    "def try_assign_process(task, core, available_time_start, available_time_end):\n",
    "    # print(nodes[task]['finished'])\n",
    "    if len(ready_to_start)>0 and (nodes[task]['finished']==-1):\n",
    "        if task in ready_to_start :\n",
    "            if available_time_end == -1 or ready_to_start[task] < available_time_end :\n",
    "                start_time = max(available_time_start, ready_to_start[task])\n",
    "                end_time = start_time + nodes[task]['Weight']\n",
    "                schedule[core].append({'task':task, 'start':start_time, 'end':end_time})\n",
    "                nodes[task]['done'] = True\n",
    "                # print('assigning task',task)\n",
    "                update_ready_to_start(task, end_time)\n",
    "                ready_to_start.pop(task)\n",
    "                if len(priority_list)>0 :     \n",
    "                    for i in range(len(priority_list)):\n",
    "                        if task == priority_list[i] : \n",
    "                            priority_list.pop(i)\n",
    "                            return True\n",
    "                return True \n",
    "        else :\n",
    "            print('task {} not in ready to start'.format(task))\n",
    "    else :\n",
    "        print('ready_to_start is empty')   \n",
    "    return False\n",
    "\n",
    "def update_dead_time(dead_time_list, done, time_stamp, ind):\n",
    "    dead_time_copy = dead_time_list.copy()\n",
    "    if done :\n",
    "        if len(dead_time_copy)>0 :\n",
    "            for dead_time in dead_time_copy :\n",
    "                core_id = dead_time['core']\n",
    "                max_times = max(time_stamp,proc_end_times[core_id])\n",
    "                dead_time['end'] = max_times\n",
    "                proc_end_times[core_id] = max_times\n",
    "    else :\n",
    "        dead_time_copy.append({'core':ind, 'start':time_stamp, 'end':0})\n",
    "    # for core in dead_time_copy :\n",
    "    #     dead_time_copy[core]['duration'] = dead_time_copy[core]['end'] - dead_time_copy[core]['start']\n",
    "    return dead_time_copy\n",
    "\n",
    "def fill_schedule():\n",
    "    dead_time_list = []\n",
    "    end_times = get_end_times(schedule)\n",
    "    # print('end_times:', end_times)\n",
    "    done = False\n",
    "    # print('prio',priority_list)\n",
    "    task = get_next_task()\n",
    "    # print('next task in prio')\n",
    "    while not done :\n",
    "        ind, time_stamp, end_times = gef_first_core_ready(end_times)\n",
    "        # print('available core :', ind)\n",
    "        # print('available at', time_stamp)\n",
    "        # print('end times:', end_times)\n",
    "        # print('ready_to_start', ready_to_start)\n",
    "        # print(ind, time_stamp)\n",
    "        if len(end_times)==0 :\n",
    "            done = try_assign_process(task, ind, time_stamp, -1)\n",
    "        else :\n",
    "            next_end_time = max(end_times.values())\n",
    "            if next_end_time == time_stamp :\n",
    "                done = try_assign_process(task, ind, time_stamp, -1)\n",
    "            else :\n",
    "                done = try_assign_process(task, ind, time_stamp, next_end_time)\n",
    "\n",
    "        # print('done?', done)\n",
    "        dead_time_list = update_dead_time(dead_time_list, done, time_stamp, ind)\n",
    "    return dead_time_list\n",
    "\n",
    "def find_dead_time(dead_time_list) :\n",
    "    max_val = -1\n",
    "    max_ind = -1\n",
    "    for i in range(len(dead_time_list)):\n",
    "        new_val = dead_time_list[i]['start']\n",
    "        if new_val>max_val :\n",
    "            max_val = new_val\n",
    "            max_ind = i\n",
    "    # idle_intervals = []\n",
    "    # for interval in dead_time_copy :\n",
    "    #     idle_intervals.append(interval['start'])\n",
    "    # i = np.argmax(idle_intervals)\n",
    "    return max_ind\n",
    "\n",
    "\n",
    "def fill_dead_time(dead_time_list):\n",
    "    dead_time_copy = dead_time_list.copy()\n",
    "    \n",
    "    while len(dead_time_copy) > 0 :\n",
    "        # print('dead time:',dead_time_copy)\n",
    "        i = find_dead_time(dead_time_copy)\n",
    "        dead_time_end = dead_time_copy[i]['end']\n",
    "        dead_time_start = dead_time_copy[i]['start']\n",
    "        idle_core = dead_time_copy[i]['core']\n",
    "        possible_tasks = {}\n",
    "\n",
    "        for task in ready_to_start :\n",
    "            task_available_start = ready_to_start[task]\n",
    "            start_time = max(dead_time_start,task_available_start)\n",
    "            if task_available_start<=dead_time_end and nodes[task]['Weight']<= dead_time_end - start_time :\n",
    "                possible_tasks[task]=nodes[task]['rank']\n",
    "        \n",
    "        if len(possible_tasks)>0 :\n",
    "            # print('possible tasks to fill dead time', possible_tasks)\n",
    "            \n",
    "            task_to_do = max(possible_tasks, key=possible_tasks.get)\n",
    "            # print(task_to_do)\n",
    "            task_start_time = ready_to_start[task_to_do]\n",
    "            # print('task start time',task_start_time)\n",
    "            start_time = max(dead_time_start,task_start_time)\n",
    "            task_end_time = start_time + weight(nodes[task])\n",
    "            done = try_assign_process(task_to_do, idle_core, start_time, dead_time_end)\n",
    "            if not done :\n",
    "                print('could\\'nt assign the task {} to dead time'.format(task_to_do))\n",
    "\n",
    "\n",
    "            if dead_time_start<task_start_time :\n",
    "                new_element = {'core':idle_core, 'start':dead_time_start, 'end':task_start_time}\n",
    "                dead_time_copy.append({'core':idle_core, 'start':dead_time_start, 'end':task_start_time})\n",
    "                # print('new before', new_element)\n",
    "            if task_end_time<dead_time_end :\n",
    "                new_element = {'core':idle_core, 'start':task_end_time, 'end':dead_time_end}\n",
    "                dead_time_copy.append(new_element)\n",
    "                # print('new after')\n",
    "        # print(i, dead_time_copy)\n",
    "        dead_time_copy.pop(i)\n",
    "        # print('did pop?', dead_time_copy)\n",
    "   \n",
    "\n",
    "    \n"
   ]
  },
  {
   "cell_type": "code",
   "execution_count": 446,
   "metadata": {},
   "outputs": [
    {
     "name": "stdout",
     "output_type": "stream",
     "text": [
      "{0: 0, 1: 0}\n"
     ]
    }
   ],
   "source": [
    "end_times = get_end_times(schedule)\n",
    "print(end_times)\n"
   ]
  },
  {
   "cell_type": "code",
   "execution_count": 447,
   "metadata": {},
   "outputs": [
    {
     "name": "stdout",
     "output_type": "stream",
     "text": [
      "no task ready to start, verifying all tasks are done\n"
     ]
    }
   ],
   "source": [
    "n_cores = 2\n",
    "schedule = make_empty_schedule(n_cores)\n",
    "reinitialise_finished()\n",
    "proc_end_times={core:0 for core in range(n_cores)}\n",
    "priority_list = priority_list_save.copy()\n",
    "ready_to_start = ready_to_start_save.copy()\n",
    "all_done = False\n",
    "while not all_done :\n",
    "    # print('ready_to_start', ready_to_start)\n",
    "    all_done = True\n",
    "    dead_time_list = fill_schedule()\n",
    "    # print('dead_time', dead_time_list)\n",
    "    fill_dead_time(dead_time_list)\n",
    "    if len(ready_to_start)>0 :\n",
    "        all_done = False\n",
    "    else : \n",
    "        print('no task ready to start, verifying all tasks are done')  \n",
    "        if len(priority_list)>0: \n",
    "            for node in nodes :\n",
    "                if nodes[node]['finished']==False :\n",
    "                    # print('task not finished :', node)\n",
    "                    all_done = False\n",
    "    # print(schedule)\n",
    "\n",
    "    \n"
   ]
  },
  {
   "cell_type": "code",
   "execution_count": 448,
   "metadata": {},
   "outputs": [],
   "source": [
    "def get_score_1(schedule):\n",
    "    score = 0\n",
    "    for core_list in schedule.values() :\n",
    "        if len(core_list)>0 :\n",
    "            new_score = core_list[-1]['end']\n",
    "            if new_score>score :\n",
    "                score = new_score\n",
    "    return score\n",
    "\n",
    "def get_score_2(schedule):\n",
    "    score = 0\n",
    "    for core_list in schedule.values() :\n",
    "        for task in core_list :\n",
    "            new_score = task['end']\n",
    "            if new_score>score :\n",
    "                score = new_score\n",
    "    return score\n"
   ]
  },
  {
   "cell_type": "code",
   "execution_count": 449,
   "metadata": {},
   "outputs": [
    {
     "data": {
      "text/plain": [
       "2292921.3700811993"
      ]
     },
     "execution_count": 449,
     "metadata": {},
     "output_type": "execute_result"
    }
   ],
   "source": [
    "get_score_1(schedule)\n"
   ]
  },
  {
   "cell_type": "code",
   "execution_count": 450,
   "metadata": {},
   "outputs": [],
   "source": [
    "import pandas as pd\n",
    "\n",
    "def trasnform_schedule_to_pd(schedule):\n",
    "    table = []\n",
    "    for core_id in schedule :\n",
    "        for task in schedule[core_id] :\n",
    "            rank_val = nodes[task['task']]['rank']\n",
    "            val = dict(Task = task['task'], Core = core_id, Start = task['start'], End = task['end'], Rank = rank_val)\n",
    "            table.append(val)\n",
    "    return pd.DataFrame(table)        \n"
   ]
  },
  {
   "cell_type": "code",
   "execution_count": 451,
   "metadata": {},
   "outputs": [
    {
     "name": "stdout",
     "output_type": "stream",
     "text": [
      "      Task  Core         Start           End          Rank\n",
      "0      919     0  0.000000e+00  3.838084e+03  1.435771e+06\n",
      "1      927     0  3.838084e+03  6.392464e+03  1.431933e+06\n",
      "2      930     0  6.392464e+03  8.055724e+03  1.429379e+06\n",
      "3      931     0  8.055724e+03  1.141912e+04  1.427715e+06\n",
      "4      933     0  1.141912e+04  1.695538e+04  1.424352e+06\n",
      "...    ...   ...           ...           ...           ...\n",
      "1176   322     1  2.286732e+06  2.289728e+06  2.995978e+03\n",
      "1177  1364     1  2.289728e+06  2.290571e+06  2.037780e+03\n",
      "1178  1365     1  2.290571e+06  2.291766e+06  1.194478e+03\n",
      "1179   673     1  2.291766e+06  2.292417e+06  6.519228e+02\n",
      "1180   394     1  2.292417e+06  2.292892e+06  4.746759e+02\n",
      "\n",
      "[1181 rows x 5 columns]\n"
     ]
    }
   ],
   "source": [
    "from pathlib import Path  \n",
    "pd_schedule = trasnform_schedule_to_pd(schedule)\n",
    "print(pd_schedule)\n",
    "path_name = 'schedules/{}_{}cores.csv'.format(names[file_num],n_cores)\n",
    "filepath = Path(path_name)  \n",
    "filepath.parent.mkdir(parents=True, exist_ok=True)  \n",
    "pd_schedule.to_csv(filepath)  \n"
   ]
  }
 ],
 "metadata": {
  "kernelspec": {
   "display_name": "Python 3",
   "language": "python",
   "name": "python3"
  },
  "language_info": {
   "codemirror_mode": {
    "name": "ipython",
    "version": 3
   },
   "file_extension": ".py",
   "mimetype": "text/x-python",
   "name": "python",
   "nbconvert_exporter": "python",
   "pygments_lexer": "ipython3",
   "version": "3.10.0"
  },
  "orig_nbformat": 4,
  "vscode": {
   "interpreter": {
    "hash": "0247af2ad54b89941d5bbc349ce0bb468cceffd3de09303ac244a9d0972ce8b5"
   }
  }
 },
 "nbformat": 4,
 "nbformat_minor": 2
}
